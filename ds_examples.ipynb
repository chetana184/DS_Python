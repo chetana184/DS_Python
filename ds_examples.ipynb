{
 "cells": [
  {
   "cell_type": "code",
   "execution_count": 17,
   "id": "3ad39b20-e425-4dac-a9e3-2a2c9530812d",
   "metadata": {},
   "outputs": [],
   "source": [
    "l = [2,3,4]\n",
    "a= [5,6,7]\n",
    "b=[8,9,10]"
   ]
  },
  {
   "cell_type": "code",
   "execution_count": 18,
   "id": "6de16630-e32d-47c2-a8ee-2fd8c5ddeac9",
   "metadata": {},
   "outputs": [],
   "source": [
    "l.append(5)"
   ]
  },
  {
   "cell_type": "code",
   "execution_count": 19,
   "id": "a7aa2bba-272f-453e-9dc9-f47203579be7",
   "metadata": {},
   "outputs": [
    {
     "data": {
      "text/plain": [
       "[2, 3, 4, 5]"
      ]
     },
     "execution_count": 19,
     "metadata": {},
     "output_type": "execute_result"
    }
   ],
   "source": [
    "l"
   ]
  },
  {
   "cell_type": "code",
   "execution_count": 21,
   "id": "744e541f-ccf1-458d-b747-6a74e021311a",
   "metadata": {},
   "outputs": [],
   "source": [
    "l.extend(b)"
   ]
  },
  {
   "cell_type": "code",
   "execution_count": 22,
   "id": "38e93672-d1e1-4ecd-ab6c-5dde4443dc5d",
   "metadata": {},
   "outputs": [
    {
     "data": {
      "text/plain": [
       "[2, 3, 4, 5, 5, 6, 7, 8, 9, 10]"
      ]
     },
     "execution_count": 22,
     "metadata": {},
     "output_type": "execute_result"
    }
   ],
   "source": [
    "l"
   ]
  },
  {
   "cell_type": "code",
   "execution_count": 23,
   "id": "31ccccbc-46cd-4ddd-a859-5f16d27c7d7b",
   "metadata": {},
   "outputs": [],
   "source": [
    "l.insert(3,6)"
   ]
  },
  {
   "cell_type": "code",
   "execution_count": 24,
   "id": "c9ac5273-2cf3-4051-bffc-2f3eccbd2ca1",
   "metadata": {},
   "outputs": [
    {
     "data": {
      "text/plain": [
       "[2, 3, 4, 6, 5, 5, 6, 7, 8, 9, 10]"
      ]
     },
     "execution_count": 24,
     "metadata": {},
     "output_type": "execute_result"
    }
   ],
   "source": [
    "l"
   ]
  },
  {
   "cell_type": "code",
   "execution_count": 33,
   "id": "df9e7b16-db4e-4020-bb24-579eae421ab5",
   "metadata": {},
   "outputs": [
    {
     "data": {
      "text/plain": [
       "2"
      ]
     },
     "execution_count": 33,
     "metadata": {},
     "output_type": "execute_result"
    }
   ],
   "source": [
    "l.count(5)"
   ]
  },
  {
   "cell_type": "code",
   "execution_count": 34,
   "id": "ceb6084a-9258-4f9d-b965-e9a8cbc27756",
   "metadata": {},
   "outputs": [
    {
     "data": {
      "text/plain": [
       "10"
      ]
     },
     "execution_count": 34,
     "metadata": {},
     "output_type": "execute_result"
    }
   ],
   "source": [
    "l.pop()"
   ]
  },
  {
   "cell_type": "code",
   "execution_count": 35,
   "id": "75ddcfde-5695-465b-9078-c7d58b62b35c",
   "metadata": {},
   "outputs": [],
   "source": [
    "l.remove(9)"
   ]
  },
  {
   "cell_type": "code",
   "execution_count": 36,
   "id": "9c10677c-9623-413e-bef3-7b6f224c56f9",
   "metadata": {},
   "outputs": [
    {
     "data": {
      "text/plain": [
       "[2, 3, 4, 6, 5, 5, 6, 7, 8]"
      ]
     },
     "execution_count": 36,
     "metadata": {},
     "output_type": "execute_result"
    }
   ],
   "source": [
    "l"
   ]
  },
  {
   "cell_type": "code",
   "execution_count": 37,
   "id": "fe30f419-be8c-44ec-9b69-8f32a82cb608",
   "metadata": {},
   "outputs": [],
   "source": [
    "l.insert(3,1)"
   ]
  },
  {
   "cell_type": "code",
   "execution_count": 38,
   "id": "72e12160-e4e5-4ea6-985e-60fe10c41780",
   "metadata": {},
   "outputs": [
    {
     "data": {
      "text/plain": [
       "[2, 3, 4, 1, 6, 5, 5, 6, 7, 8]"
      ]
     },
     "execution_count": 38,
     "metadata": {},
     "output_type": "execute_result"
    }
   ],
   "source": [
    "l"
   ]
  },
  {
   "cell_type": "code",
   "execution_count": 39,
   "id": "3ddfce24-5a11-4a76-b27c-54ae28a6283e",
   "metadata": {},
   "outputs": [],
   "source": [
    "b={10,30,40}"
   ]
  },
  {
   "cell_type": "code",
   "execution_count": 40,
   "id": "72561acb-e73d-4e4d-8e09-178f126bb8be",
   "metadata": {},
   "outputs": [
    {
     "data": {
      "text/plain": [
       "set"
      ]
     },
     "execution_count": 40,
     "metadata": {},
     "output_type": "execute_result"
    }
   ],
   "source": [
    "type(b)"
   ]
  },
  {
   "cell_type": "code",
   "execution_count": 43,
   "id": "e484e8da-91c7-4fcd-aad5-2baa964fa19e",
   "metadata": {},
   "outputs": [],
   "source": [
    "s=('hello', 2, 10.5)"
   ]
  },
  {
   "cell_type": "code",
   "execution_count": 44,
   "id": "a09891a1-27ae-43b3-8a03-a1216dac7454",
   "metadata": {},
   "outputs": [
    {
     "data": {
      "text/plain": [
       "tuple"
      ]
     },
     "execution_count": 44,
     "metadata": {},
     "output_type": "execute_result"
    }
   ],
   "source": [
    "type(s)"
   ]
  },
  {
   "cell_type": "code",
   "execution_count": 48,
   "id": "9dc2aff3-d33a-4e63-8a75-87ed1ba64092",
   "metadata": {},
   "outputs": [],
   "source": [
    "b.append(5)"
   ]
  },
  {
   "cell_type": "code",
   "execution_count": 49,
   "id": "42df03c1-b0a7-4325-8c3e-dc3f9d3fb1d9",
   "metadata": {},
   "outputs": [
    {
     "data": {
      "text/plain": [
       "[8, 9, 10, 5]"
      ]
     },
     "execution_count": 49,
     "metadata": {},
     "output_type": "execute_result"
    }
   ],
   "source": [
    "b"
   ]
  },
  {
   "cell_type": "code",
   "execution_count": 50,
   "id": "c0aabb55-9fff-416d-ac30-cc02e643f22e",
   "metadata": {},
   "outputs": [],
   "source": [
    "A1={'name':'Priya','age':25, 'marks':45}\n",
    "A2={'subject':'Python','class':12}"
   ]
  },
  {
   "cell_type": "code",
   "execution_count": 51,
   "id": "1d7493a6-b5b8-45dc-b450-550eaff8a368",
   "metadata": {},
   "outputs": [],
   "source": [
    "A1.update(A2)"
   ]
  },
  {
   "cell_type": "code",
   "execution_count": 52,
   "id": "556e53b7-2520-4586-aa37-e51d6245a533",
   "metadata": {},
   "outputs": [
    {
     "data": {
      "text/plain": [
       "{'name': 'Priya', 'age': 25, 'marks': 45, 'subject': 'Python', 'class': 12}"
      ]
     },
     "execution_count": 52,
     "metadata": {},
     "output_type": "execute_result"
    }
   ],
   "source": [
    "A1"
   ]
  },
  {
   "cell_type": "code",
   "execution_count": 53,
   "id": "ced3c96a-333c-4085-a60b-ab2cf212cb2f",
   "metadata": {},
   "outputs": [],
   "source": [
    "D=(22,22,33,44,55,55,77)"
   ]
  },
  {
   "cell_type": "code",
   "execution_count": 54,
   "id": "99801482-af0f-4a63-a4f7-ab891dba7716",
   "metadata": {},
   "outputs": [
    {
     "data": {
      "text/plain": [
       "(22, 22, 33, 44, 55, 55, 77)"
      ]
     },
     "execution_count": 54,
     "metadata": {},
     "output_type": "execute_result"
    }
   ],
   "source": [
    "D"
   ]
  },
  {
   "cell_type": "code",
   "execution_count": 57,
   "id": "8dd39380-0bf1-48dd-8b9c-9600fb957833",
   "metadata": {},
   "outputs": [],
   "source": [
    "G={22,22,33,44,55,55,77}"
   ]
  },
  {
   "cell_type": "code",
   "execution_count": 58,
   "id": "90811147-5509-4c36-ba14-1aa0745af014",
   "metadata": {},
   "outputs": [
    {
     "data": {
      "text/plain": [
       "{22, 33, 44, 55, 77}"
      ]
     },
     "execution_count": 58,
     "metadata": {},
     "output_type": "execute_result"
    }
   ],
   "source": [
    "G"
   ]
  },
  {
   "cell_type": "code",
   "execution_count": 59,
   "id": "e2be15f5-70ef-4fa2-af8f-2ae593ae2708",
   "metadata": {},
   "outputs": [
    {
     "data": {
      "text/plain": [
       "set"
      ]
     },
     "execution_count": 59,
     "metadata": {},
     "output_type": "execute_result"
    }
   ],
   "source": [
    "type(G)"
   ]
  },
  {
   "cell_type": "markdown",
   "id": "73554082-9f79-449f-a01a-82469a3f9677",
   "metadata": {},
   "source": [
    "Remove odd numbers from the list"
   ]
  },
  {
   "cell_type": "code",
   "execution_count": 87,
   "id": "0d3fe283-e397-4410-b365-d9f0656a42c7",
   "metadata": {},
   "outputs": [],
   "source": [
    "numbers=[1,2,3,4,5,6]\n",
    "new_list=[]\n",
    "for x in numbers:\n",
    "    if x % 2 == 0:\n",
    "        new_list.append(x)\n",
    "        "
   ]
  },
  {
   "cell_type": "code",
   "execution_count": 88,
   "id": "e95bbcf1-0018-4419-a3e4-ab76063adeec",
   "metadata": {},
   "outputs": [
    {
     "name": "stdout",
     "output_type": "stream",
     "text": [
      "[2, 4, 6]\n"
     ]
    }
   ],
   "source": [
    "print(new_list)"
   ]
  },
  {
   "cell_type": "code",
   "execution_count": null,
   "id": "3a7378d3-682e-431a-8002-b6c7ce18b09c",
   "metadata": {},
   "outputs": [],
   "source": []
  }
 ],
 "metadata": {
  "kernelspec": {
   "display_name": "Python 3 (ipykernel)",
   "language": "python",
   "name": "python3"
  },
  "language_info": {
   "codemirror_mode": {
    "name": "ipython",
    "version": 3
   },
   "file_extension": ".py",
   "mimetype": "text/x-python",
   "name": "python",
   "nbconvert_exporter": "python",
   "pygments_lexer": "ipython3",
   "version": "3.12.7"
  }
 },
 "nbformat": 4,
 "nbformat_minor": 5
}
