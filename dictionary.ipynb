{
 "cells": [
  {
   "cell_type": "markdown",
   "id": "ad4dbb91-f099-4bf7-a2c5-8bd57b970706",
   "metadata": {},
   "source": [
    "# Dictionary"
   ]
  },
  {
   "cell_type": "code",
   "execution_count": 1,
   "id": "5a94cd67-8eea-4e0d-b9ed-7f63b230d05a",
   "metadata": {},
   "outputs": [],
   "source": [
    "d = {'A':10, 'B':15, 'C':20}"
   ]
  },
  {
   "cell_type": "code",
   "execution_count": 2,
   "id": "613c6320-f7b6-4795-87ee-3359e5238715",
   "metadata": {},
   "outputs": [
    {
     "data": {
      "text/plain": [
       "{'A': 10, 'B': 15, 'C': 20}"
      ]
     },
     "execution_count": 2,
     "metadata": {},
     "output_type": "execute_result"
    }
   ],
   "source": [
    "d"
   ]
  },
  {
   "cell_type": "code",
   "execution_count": 3,
   "id": "5507f7dd-4f25-4ace-b40a-c11929e6d9c5",
   "metadata": {},
   "outputs": [
    {
     "data": {
      "text/plain": [
       "dict_keys(['A', 'B', 'C'])"
      ]
     },
     "execution_count": 3,
     "metadata": {},
     "output_type": "execute_result"
    }
   ],
   "source": [
    "d.keys()"
   ]
  },
  {
   "cell_type": "code",
   "execution_count": 4,
   "id": "a72c2c6b-2c61-4faf-aa3c-6fe974cd4f4c",
   "metadata": {},
   "outputs": [
    {
     "data": {
      "text/plain": [
       "dict_items([('A', 10), ('B', 15), ('C', 20)])"
      ]
     },
     "execution_count": 4,
     "metadata": {},
     "output_type": "execute_result"
    }
   ],
   "source": [
    "d.items()"
   ]
  },
  {
   "cell_type": "code",
   "execution_count": 5,
   "id": "aca26f67-5f3e-4569-801e-096273d1e7e3",
   "metadata": {},
   "outputs": [
    {
     "data": {
      "text/plain": [
       "dict_values([10, 15, 20])"
      ]
     },
     "execution_count": 5,
     "metadata": {},
     "output_type": "execute_result"
    }
   ],
   "source": [
    "d.values()"
   ]
  },
  {
   "cell_type": "code",
   "execution_count": 17,
   "id": "0ddfac49-7ae0-46ca-80ea-ddec10bcc385",
   "metadata": {},
   "outputs": [
    {
     "data": {
      "text/plain": [
       "dict_values([10, 15, 20])"
      ]
     },
     "execution_count": 17,
     "metadata": {},
     "output_type": "execute_result"
    }
   ],
   "source": [
    "d.values()"
   ]
  },
  {
   "cell_type": "code",
   "execution_count": 18,
   "id": "4ad8ba0a-7d24-4122-9636-c25e0f6579da",
   "metadata": {},
   "outputs": [
    {
     "data": {
      "text/plain": [
       "10"
      ]
     },
     "execution_count": 18,
     "metadata": {},
     "output_type": "execute_result"
    }
   ],
   "source": [
    "d['A']"
   ]
  },
  {
   "cell_type": "code",
   "execution_count": 19,
   "id": "173f0c62-5564-463f-97d8-8e89c818706d",
   "metadata": {},
   "outputs": [
    {
     "data": {
      "text/plain": [
       "15"
      ]
     },
     "execution_count": 19,
     "metadata": {},
     "output_type": "execute_result"
    }
   ],
   "source": [
    "d['B']"
   ]
  },
  {
   "cell_type": "code",
   "execution_count": 20,
   "id": "0ee459e0-0fb7-45fb-a124-98d1ff0f335b",
   "metadata": {},
   "outputs": [
    {
     "data": {
      "text/plain": [
       "20"
      ]
     },
     "execution_count": 20,
     "metadata": {},
     "output_type": "execute_result"
    }
   ],
   "source": [
    "d['C']"
   ]
  },
  {
   "cell_type": "code",
   "execution_count": 31,
   "id": "e3215ecf-c3b3-470f-bbfc-a5e6ea11a6cf",
   "metadata": {},
   "outputs": [],
   "source": [
    "d1={'Name':'Parth', 'Age': 20 , 'Mobile': 4567890432 , 'City': 'Pune'}"
   ]
  },
  {
   "cell_type": "code",
   "execution_count": 32,
   "id": "38666724-fbf2-4245-84cb-96a8733112a6",
   "metadata": {},
   "outputs": [
    {
     "data": {
      "text/plain": [
       "{'Name': 'Parth', 'Age': 20, 'Mobile': 4567890432, 'City': 'Pune'}"
      ]
     },
     "execution_count": 32,
     "metadata": {},
     "output_type": "execute_result"
    }
   ],
   "source": [
    "d1"
   ]
  },
  {
   "cell_type": "code",
   "execution_count": 33,
   "id": "fdd99b53-d829-4dbf-bc55-909cfe95a858",
   "metadata": {},
   "outputs": [],
   "source": [
    "d1['Age']=18"
   ]
  },
  {
   "cell_type": "code",
   "execution_count": 34,
   "id": "20aabdf6-7d3e-48bc-b8d9-376012da1da6",
   "metadata": {},
   "outputs": [
    {
     "data": {
      "text/plain": [
       "{'Name': 'Parth', 'Age': 18, 'Mobile': 4567890432, 'City': 'Pune'}"
      ]
     },
     "execution_count": 34,
     "metadata": {},
     "output_type": "execute_result"
    }
   ],
   "source": [
    "d1"
   ]
  },
  {
   "cell_type": "code",
   "execution_count": 35,
   "id": "61c81c43-4f87-4eed-b070-3f8817e0e955",
   "metadata": {},
   "outputs": [],
   "source": [
    "d1['City']= 'Solapur'"
   ]
  },
  {
   "cell_type": "code",
   "execution_count": 36,
   "id": "6a3f52d6-c31a-4f95-9565-185460c8de4f",
   "metadata": {},
   "outputs": [
    {
     "data": {
      "text/plain": [
       "{'Name': 'Parth', 'Age': 18, 'Mobile': 4567890432, 'City': 'Solapur'}"
      ]
     },
     "execution_count": 36,
     "metadata": {},
     "output_type": "execute_result"
    }
   ],
   "source": [
    "d1"
   ]
  },
  {
   "cell_type": "code",
   "execution_count": 37,
   "id": "22f80a7a-ec1d-469a-acc3-bf1f3bc157e7",
   "metadata": {},
   "outputs": [],
   "source": [
    "# how to add new key and value in dict"
   ]
  },
  {
   "cell_type": "code",
   "execution_count": 38,
   "id": "a2bbffc5-2410-42f8-83b8-5540ead64fb1",
   "metadata": {},
   "outputs": [],
   "source": [
    "d1['class']= 'Commerece'"
   ]
  },
  {
   "cell_type": "code",
   "execution_count": 39,
   "id": "d59cd6ef-57cd-426b-b1f3-26239131b42c",
   "metadata": {},
   "outputs": [
    {
     "data": {
      "text/plain": [
       "{'Name': 'Parth',\n",
       " 'Age': 18,\n",
       " 'Mobile': 4567890432,\n",
       " 'City': 'Solapur',\n",
       " 'class': 'Commerece'}"
      ]
     },
     "execution_count": 39,
     "metadata": {},
     "output_type": "execute_result"
    }
   ],
   "source": [
    "d1"
   ]
  },
  {
   "cell_type": "code",
   "execution_count": 40,
   "id": "eaddcda4-d91d-4859-8752-3d526bf65169",
   "metadata": {},
   "outputs": [
    {
     "data": {
      "text/plain": [
       "dict_keys(['Name', 'Age', 'Mobile', 'City', 'class'])"
      ]
     },
     "execution_count": 40,
     "metadata": {},
     "output_type": "execute_result"
    }
   ],
   "source": [
    "d1.keys()"
   ]
  },
  {
   "cell_type": "code",
   "execution_count": 42,
   "id": "bf691b42-bfb2-48f3-a0b4-eb2ad680bf4d",
   "metadata": {},
   "outputs": [
    {
     "data": {
      "text/plain": [
       "4567890432"
      ]
     },
     "execution_count": 42,
     "metadata": {},
     "output_type": "execute_result"
    }
   ],
   "source": [
    "d1['Mobile']"
   ]
  },
  {
   "cell_type": "code",
   "execution_count": 43,
   "id": "c6fc4707-25e7-40ed-8c14-b3eb3fd0329c",
   "metadata": {},
   "outputs": [
    {
     "data": {
      "text/plain": [
       "'Parth'"
      ]
     },
     "execution_count": 43,
     "metadata": {},
     "output_type": "execute_result"
    }
   ],
   "source": [
    "d1['Name']"
   ]
  },
  {
   "cell_type": "code",
   "execution_count": 45,
   "id": "92c6d57b-0b65-4129-bf0a-f0285bd3e297",
   "metadata": {},
   "outputs": [
    {
     "data": {
      "text/plain": [
       "dict"
      ]
     },
     "execution_count": 45,
     "metadata": {},
     "output_type": "execute_result"
    }
   ],
   "source": [
    "type(d1)"
   ]
  },
  {
   "cell_type": "code",
   "execution_count": 47,
   "id": "0d8ac1b4-1178-4b5e-bf33-8d00fefd701a",
   "metadata": {},
   "outputs": [],
   "source": [
    "mix = {'Names':('hello','python','class'),'Age':(10,20,45,55)}"
   ]
  },
  {
   "cell_type": "code",
   "execution_count": 48,
   "id": "4207151a-046c-4219-9906-992f3f2eb8d1",
   "metadata": {},
   "outputs": [
    {
     "data": {
      "text/plain": [
       "{'Names': ('hello', 'python', 'class'), 'Age': (10, 20, 45, 55)}"
      ]
     },
     "execution_count": 48,
     "metadata": {},
     "output_type": "execute_result"
    }
   ],
   "source": [
    "mix"
   ]
  },
  {
   "cell_type": "code",
   "execution_count": 49,
   "id": "6b6a40a3-96f4-4718-9b5a-3359429a2415",
   "metadata": {},
   "outputs": [
    {
     "data": {
      "text/plain": [
       "dict_keys(['Names', 'Age'])"
      ]
     },
     "execution_count": 49,
     "metadata": {},
     "output_type": "execute_result"
    }
   ],
   "source": [
    "mix.keys()"
   ]
  },
  {
   "cell_type": "code",
   "execution_count": 50,
   "id": "4d76ee1f-925b-469e-b0b0-47d165ee95be",
   "metadata": {},
   "outputs": [
    {
     "data": {
      "text/plain": [
       "dict_values([('hello', 'python', 'class'), (10, 20, 45, 55)])"
      ]
     },
     "execution_count": 50,
     "metadata": {},
     "output_type": "execute_result"
    }
   ],
   "source": [
    "mix.values()"
   ]
  },
  {
   "cell_type": "code",
   "execution_count": 51,
   "id": "a1fb25a5-6022-4115-ad3b-1d2dd4d3b2a2",
   "metadata": {},
   "outputs": [
    {
     "data": {
      "text/plain": [
       "dict"
      ]
     },
     "execution_count": 51,
     "metadata": {},
     "output_type": "execute_result"
    }
   ],
   "source": [
    "type(mix)"
   ]
  }
 ],
 "metadata": {
  "kernelspec": {
   "display_name": "Python 3 (ipykernel)",
   "language": "python",
   "name": "python3"
  },
  "language_info": {
   "codemirror_mode": {
    "name": "ipython",
    "version": 3
   },
   "file_extension": ".py",
   "mimetype": "text/x-python",
   "name": "python",
   "nbconvert_exporter": "python",
   "pygments_lexer": "ipython3",
   "version": "3.12.7"
  }
 },
 "nbformat": 4,
 "nbformat_minor": 5
}
