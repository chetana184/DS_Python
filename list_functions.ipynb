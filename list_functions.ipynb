{
 "cells": [
  {
   "cell_type": "markdown",
   "id": "8dc3b31f-8ae9-48a9-8528-b15b782bc070",
   "metadata": {},
   "source": [
    "# Functions on List"
   ]
  },
  {
   "cell_type": "code",
   "execution_count": 123,
   "id": "4ab9e401-f0e4-46a8-a41a-95698e87fe92",
   "metadata": {},
   "outputs": [],
   "source": [
    "a = [10,20,50,50,20]"
   ]
  },
  {
   "cell_type": "code",
   "execution_count": 124,
   "id": "e4f07d6f-d73e-4800-ad50-9d51469bc1c4",
   "metadata": {},
   "outputs": [
    {
     "data": {
      "text/plain": [
       "[10, 20, 50, 50, 20]"
      ]
     },
     "execution_count": 124,
     "metadata": {},
     "output_type": "execute_result"
    }
   ],
   "source": [
    "a"
   ]
  },
  {
   "cell_type": "code",
   "execution_count": 125,
   "id": "45d7b40b-e375-4c08-89b4-272e98d58796",
   "metadata": {},
   "outputs": [],
   "source": [
    "a.append(50)"
   ]
  },
  {
   "cell_type": "code",
   "execution_count": 126,
   "id": "18836175-0b47-4755-b40a-71443adf08be",
   "metadata": {},
   "outputs": [
    {
     "data": {
      "text/plain": [
       "[10, 20, 50, 50, 20, 50]"
      ]
     },
     "execution_count": 126,
     "metadata": {},
     "output_type": "execute_result"
    }
   ],
   "source": [
    "a"
   ]
  },
  {
   "cell_type": "code",
   "execution_count": 127,
   "id": "841ff792-ba1a-4eff-854d-be03a8301d37",
   "metadata": {},
   "outputs": [],
   "source": [
    "a.append([60,70])"
   ]
  },
  {
   "cell_type": "code",
   "execution_count": 128,
   "id": "46af90c5-8e7c-4c42-aaee-1ba5b2c08a13",
   "metadata": {},
   "outputs": [
    {
     "data": {
      "text/plain": [
       "[10, 20, 50, 50, 20, 50, [60, 70]]"
      ]
     },
     "execution_count": 128,
     "metadata": {},
     "output_type": "execute_result"
    }
   ],
   "source": [
    "a"
   ]
  },
  {
   "cell_type": "code",
   "execution_count": 129,
   "id": "b1f35c12-5067-4b5d-ae50-f0d6e36bfe42",
   "metadata": {},
   "outputs": [],
   "source": [
    "l=[200,300,400,500,200,100,200]"
   ]
  },
  {
   "cell_type": "code",
   "execution_count": 130,
   "id": "8fa2f20b-4c0f-4f30-939c-57b417c7534f",
   "metadata": {},
   "outputs": [
    {
     "data": {
      "text/plain": [
       "[200, 300, 400, 500, 200, 100, 200]"
      ]
     },
     "execution_count": 130,
     "metadata": {},
     "output_type": "execute_result"
    }
   ],
   "source": [
    "l"
   ]
  },
  {
   "cell_type": "code",
   "execution_count": 131,
   "id": "820cdace-7f3f-45fd-9cfe-5342834748eb",
   "metadata": {},
   "outputs": [],
   "source": [
    "l.append(400)"
   ]
  },
  {
   "cell_type": "code",
   "execution_count": 132,
   "id": "0f459554-67ef-4a28-b689-8ed6bb0479ce",
   "metadata": {},
   "outputs": [
    {
     "data": {
      "text/plain": [
       "[200, 300, 400, 500, 200, 100, 200, 400]"
      ]
     },
     "execution_count": 132,
     "metadata": {},
     "output_type": "execute_result"
    }
   ],
   "source": [
    "l"
   ]
  },
  {
   "cell_type": "code",
   "execution_count": 133,
   "id": "ec7a9409-cb75-4c41-a36c-80b69fbe30a9",
   "metadata": {},
   "outputs": [],
   "source": [
    "f=['apple' , 'mango', 'apple']"
   ]
  },
  {
   "cell_type": "code",
   "execution_count": 134,
   "id": "0523fc2d-3f90-4c8f-bf41-091f9c37f5c5",
   "metadata": {},
   "outputs": [
    {
     "data": {
      "text/plain": [
       "['apple', 'mango', 'apple']"
      ]
     },
     "execution_count": 134,
     "metadata": {},
     "output_type": "execute_result"
    }
   ],
   "source": [
    "f"
   ]
  },
  {
   "cell_type": "code",
   "execution_count": 135,
   "id": "d68de7f7-7a80-446d-b824-420c6cb4576a",
   "metadata": {},
   "outputs": [],
   "source": [
    "f.append('kiwi')"
   ]
  },
  {
   "cell_type": "code",
   "execution_count": 136,
   "id": "6dd084e5-2fe3-4417-944f-2459c5a15d56",
   "metadata": {},
   "outputs": [
    {
     "data": {
      "text/plain": [
       "['apple', 'mango', 'apple', 'kiwi']"
      ]
     },
     "execution_count": 136,
     "metadata": {},
     "output_type": "execute_result"
    }
   ],
   "source": [
    "f"
   ]
  },
  {
   "cell_type": "code",
   "execution_count": 137,
   "id": "43e11974-719f-42fe-95b4-14f59a626e8b",
   "metadata": {},
   "outputs": [
    {
     "data": {
      "text/plain": [
       "[10, 20, 50, 50, 20, 50, [60, 70]]"
      ]
     },
     "execution_count": 137,
     "metadata": {},
     "output_type": "execute_result"
    }
   ],
   "source": [
    "a"
   ]
  },
  {
   "cell_type": "code",
   "execution_count": 138,
   "id": "3208d108-a943-4243-9b5c-587b7b7d8db4",
   "metadata": {},
   "outputs": [],
   "source": [
    "a.append('hello')"
   ]
  },
  {
   "cell_type": "code",
   "execution_count": 139,
   "id": "95be3955-4d4b-4e0a-88e5-8759d5e7d8a0",
   "metadata": {},
   "outputs": [
    {
     "data": {
      "text/plain": [
       "[10, 20, 50, 50, 20, 50, [60, 70], 'hello']"
      ]
     },
     "execution_count": 139,
     "metadata": {},
     "output_type": "execute_result"
    }
   ],
   "source": [
    "a"
   ]
  },
  {
   "cell_type": "code",
   "execution_count": 140,
   "id": "72291451-bfed-4da3-99e3-98400a57e62a",
   "metadata": {},
   "outputs": [
    {
     "data": {
      "text/plain": [
       "1"
      ]
     },
     "execution_count": 140,
     "metadata": {},
     "output_type": "execute_result"
    }
   ],
   "source": [
    "a.count(10)"
   ]
  },
  {
   "cell_type": "code",
   "execution_count": 141,
   "id": "3f33104f-579d-44a8-93af-9577c799471e",
   "metadata": {},
   "outputs": [
    {
     "data": {
      "text/plain": [
       "2"
      ]
     },
     "execution_count": 141,
     "metadata": {},
     "output_type": "execute_result"
    }
   ],
   "source": [
    "a.count(20)"
   ]
  },
  {
   "cell_type": "code",
   "execution_count": 142,
   "id": "5b1d2eb5-62d3-477a-b901-29807aa744ac",
   "metadata": {},
   "outputs": [
    {
     "data": {
      "text/plain": [
       "3"
      ]
     },
     "execution_count": 142,
     "metadata": {},
     "output_type": "execute_result"
    }
   ],
   "source": [
    "a.count(50)"
   ]
  },
  {
   "cell_type": "code",
   "execution_count": 143,
   "id": "174de390-f540-4529-a713-2e3faf89e83b",
   "metadata": {},
   "outputs": [
    {
     "data": {
      "text/plain": [
       "1"
      ]
     },
     "execution_count": 143,
     "metadata": {},
     "output_type": "execute_result"
    }
   ],
   "source": [
    "a.count('hello')"
   ]
  },
  {
   "cell_type": "code",
   "execution_count": 144,
   "id": "d6ff4ca9-0c42-4952-8e19-5976a7f94259",
   "metadata": {},
   "outputs": [
    {
     "data": {
      "text/plain": [
       "[200, 300, 400, 500, 200, 100, 200, 400]"
      ]
     },
     "execution_count": 144,
     "metadata": {},
     "output_type": "execute_result"
    }
   ],
   "source": [
    "l"
   ]
  },
  {
   "cell_type": "code",
   "execution_count": 145,
   "id": "915bcded-d53c-4455-9765-493aae074526",
   "metadata": {},
   "outputs": [
    {
     "data": {
      "text/plain": [
       "2"
      ]
     },
     "execution_count": 145,
     "metadata": {},
     "output_type": "execute_result"
    }
   ],
   "source": [
    "l.count(400)"
   ]
  },
  {
   "cell_type": "code",
   "execution_count": 146,
   "id": "412d6433-13a0-45d9-91b6-52863a5832ea",
   "metadata": {},
   "outputs": [
    {
     "data": {
      "text/plain": [
       "1"
      ]
     },
     "execution_count": 146,
     "metadata": {},
     "output_type": "execute_result"
    }
   ],
   "source": [
    "l.count(300)"
   ]
  },
  {
   "cell_type": "code",
   "execution_count": 147,
   "id": "15ee39e4-7fff-40c3-83fa-93d922873b91",
   "metadata": {},
   "outputs": [
    {
     "data": {
      "text/plain": [
       "3"
      ]
     },
     "execution_count": 147,
     "metadata": {},
     "output_type": "execute_result"
    }
   ],
   "source": [
    "l.count(200)"
   ]
  },
  {
   "cell_type": "code",
   "execution_count": 148,
   "id": "1c23a200-484b-4e05-a07d-da97d003b824",
   "metadata": {},
   "outputs": [
    {
     "data": {
      "text/plain": [
       "1"
      ]
     },
     "execution_count": 148,
     "metadata": {},
     "output_type": "execute_result"
    }
   ],
   "source": [
    "l.count(100)"
   ]
  },
  {
   "cell_type": "code",
   "execution_count": 149,
   "id": "b9297427-6d81-4f63-9eb1-50bd67dcceb6",
   "metadata": {},
   "outputs": [
    {
     "data": {
      "text/plain": [
       "['apple', 'mango', 'apple', 'kiwi']"
      ]
     },
     "execution_count": 149,
     "metadata": {},
     "output_type": "execute_result"
    }
   ],
   "source": [
    "f"
   ]
  },
  {
   "cell_type": "code",
   "execution_count": 150,
   "id": "df04b5e8-5ddf-43d0-a527-bbdf98e373f3",
   "metadata": {},
   "outputs": [
    {
     "data": {
      "text/plain": [
       "2"
      ]
     },
     "execution_count": 150,
     "metadata": {},
     "output_type": "execute_result"
    }
   ],
   "source": [
    "f.count('apple')"
   ]
  },
  {
   "cell_type": "code",
   "execution_count": 151,
   "id": "98dbb5ce-1fc7-4799-84a3-9b2e02a2906e",
   "metadata": {},
   "outputs": [
    {
     "data": {
      "text/plain": [
       "1"
      ]
     },
     "execution_count": 151,
     "metadata": {},
     "output_type": "execute_result"
    }
   ],
   "source": [
    "f.count('mango')"
   ]
  },
  {
   "cell_type": "code",
   "execution_count": 152,
   "id": "b1bd0252-3aab-47e0-99c2-87e02675d453",
   "metadata": {},
   "outputs": [
    {
     "data": {
      "text/plain": [
       "[200, 300, 400, 500, 200, 100, 200, 400]"
      ]
     },
     "execution_count": 152,
     "metadata": {},
     "output_type": "execute_result"
    }
   ],
   "source": [
    "l"
   ]
  },
  {
   "cell_type": "code",
   "execution_count": 153,
   "id": "a262c43a-3bb8-4afc-bf5e-7acd70e71832",
   "metadata": {},
   "outputs": [],
   "source": [
    "l.extend([100,200])"
   ]
  },
  {
   "cell_type": "code",
   "execution_count": 154,
   "id": "509c93dc-507f-4a92-8be2-8f9b7a86d040",
   "metadata": {},
   "outputs": [
    {
     "data": {
      "text/plain": [
       "[200, 300, 400, 500, 200, 100, 200, 400, 100, 200]"
      ]
     },
     "execution_count": 154,
     "metadata": {},
     "output_type": "execute_result"
    }
   ],
   "source": [
    "l"
   ]
  },
  {
   "cell_type": "code",
   "execution_count": 155,
   "id": "6152a9dc-98dc-44b2-906a-4f94d9a2d8b9",
   "metadata": {},
   "outputs": [
    {
     "data": {
      "text/plain": [
       "[10, 20, 50, 50, 20, 50, [60, 70], 'hello']"
      ]
     },
     "execution_count": 155,
     "metadata": {},
     "output_type": "execute_result"
    }
   ],
   "source": [
    "a"
   ]
  },
  {
   "cell_type": "code",
   "execution_count": 156,
   "id": "6f5a573d-7e69-4136-b3c9-eb194a93bb84",
   "metadata": {},
   "outputs": [],
   "source": [
    "a.extend([60,70])"
   ]
  },
  {
   "cell_type": "code",
   "execution_count": 157,
   "id": "bc6fb16d-e59a-4c24-8ad7-4fa7e8c39107",
   "metadata": {},
   "outputs": [
    {
     "data": {
      "text/plain": [
       "[10, 20, 50, 50, 20, 50, [60, 70], 'hello', 60, 70]"
      ]
     },
     "execution_count": 157,
     "metadata": {},
     "output_type": "execute_result"
    }
   ],
   "source": [
    "a"
   ]
  },
  {
   "cell_type": "code",
   "execution_count": 160,
   "id": "ab6d0547-3b39-4f13-a0c2-b52bf305b368",
   "metadata": {},
   "outputs": [
    {
     "data": {
      "text/plain": [
       "9"
      ]
     },
     "execution_count": 160,
     "metadata": {},
     "output_type": "execute_result"
    }
   ],
   "source": [
    "a.index(70)"
   ]
  },
  {
   "cell_type": "code",
   "execution_count": 161,
   "id": "c48036a1-9d55-4e97-9bf6-0c3c97b7e736",
   "metadata": {},
   "outputs": [
    {
     "data": {
      "text/plain": [
       "7"
      ]
     },
     "execution_count": 161,
     "metadata": {},
     "output_type": "execute_result"
    }
   ],
   "source": [
    "a.index('hello')"
   ]
  },
  {
   "cell_type": "code",
   "execution_count": 162,
   "id": "635f7dfa-93b9-45fe-a769-4cb6156099c7",
   "metadata": {},
   "outputs": [
    {
     "data": {
      "text/plain": [
       "6"
      ]
     },
     "execution_count": 162,
     "metadata": {},
     "output_type": "execute_result"
    }
   ],
   "source": [
    "a.index([60,70])"
   ]
  },
  {
   "cell_type": "code",
   "execution_count": 165,
   "id": "1cc77f34-7c72-4d64-be2e-da08bd7ea12f",
   "metadata": {},
   "outputs": [
    {
     "data": {
      "text/plain": [
       "2"
      ]
     },
     "execution_count": 165,
     "metadata": {},
     "output_type": "execute_result"
    }
   ],
   "source": [
    "a.index(50)  # Nearest index"
   ]
  },
  {
   "cell_type": "code",
   "execution_count": 166,
   "id": "ff55a083-32cd-4189-ae39-7124e795be09",
   "metadata": {},
   "outputs": [
    {
     "data": {
      "text/plain": [
       "1"
      ]
     },
     "execution_count": 166,
     "metadata": {},
     "output_type": "execute_result"
    }
   ],
   "source": [
    "a.index(20)"
   ]
  },
  {
   "cell_type": "code",
   "execution_count": 168,
   "id": "848960dc-4594-4d42-ae6d-c10a99f8461c",
   "metadata": {},
   "outputs": [
    {
     "data": {
      "text/plain": [
       "0"
      ]
     },
     "execution_count": 168,
     "metadata": {},
     "output_type": "execute_result"
    }
   ],
   "source": [
    "a.index(10)"
   ]
  },
  {
   "cell_type": "code",
   "execution_count": 169,
   "id": "be37c6bb-b3a3-4ba6-9c06-e4acb444e333",
   "metadata": {},
   "outputs": [
    {
     "data": {
      "text/plain": [
       "[200, 300, 400, 500, 200, 100, 200, 400, 100, 200]"
      ]
     },
     "execution_count": 169,
     "metadata": {},
     "output_type": "execute_result"
    }
   ],
   "source": [
    "l"
   ]
  },
  {
   "cell_type": "code",
   "execution_count": 170,
   "id": "5f868a90-8b02-49b6-8e60-a1e03479190a",
   "metadata": {},
   "outputs": [
    {
     "data": {
      "text/plain": [
       "2"
      ]
     },
     "execution_count": 170,
     "metadata": {},
     "output_type": "execute_result"
    }
   ],
   "source": [
    "l.index(400)"
   ]
  },
  {
   "cell_type": "code",
   "execution_count": 171,
   "id": "90c8cacf-e55a-46c5-a9e5-52224cd47488",
   "metadata": {},
   "outputs": [
    {
     "data": {
      "text/plain": [
       "0"
      ]
     },
     "execution_count": 171,
     "metadata": {},
     "output_type": "execute_result"
    }
   ],
   "source": [
    "l.index(200)"
   ]
  },
  {
   "cell_type": "code",
   "execution_count": 172,
   "id": "31565c98-6089-4426-b546-2c1631461da1",
   "metadata": {},
   "outputs": [
    {
     "data": {
      "text/plain": [
       "5"
      ]
     },
     "execution_count": 172,
     "metadata": {},
     "output_type": "execute_result"
    }
   ],
   "source": [
    "l.index(100)"
   ]
  },
  {
   "cell_type": "markdown",
   "id": "334ed5c6-2f9c-4bb7-8f61-d2b58a6e45d2",
   "metadata": {},
   "source": [
    "# Insert function"
   ]
  },
  {
   "cell_type": "code",
   "execution_count": 173,
   "id": "c07e82dc-71c1-4b3e-ae7f-00ea4d6eb1ec",
   "metadata": {},
   "outputs": [
    {
     "data": {
      "text/plain": [
       "[200, 300, 400, 500, 200, 100, 200, 400, 100, 200]"
      ]
     },
     "execution_count": 173,
     "metadata": {},
     "output_type": "execute_result"
    }
   ],
   "source": [
    "l"
   ]
  },
  {
   "cell_type": "code",
   "execution_count": 195,
   "id": "4b75280c-d709-4fbb-a903-b30b95ad3b61",
   "metadata": {},
   "outputs": [],
   "source": [
    "l.insert(3,4)"
   ]
  },
  {
   "cell_type": "code",
   "execution_count": 190,
   "id": "f0dd08a9-dc75-47a9-abb0-6939e0f868ac",
   "metadata": {},
   "outputs": [
    {
     "data": {
      "text/plain": [
       "[1, 1, 20, 4, 200, 2, 4, 300, 400, 500, 200, 100, 200, 400, 100, 200]"
      ]
     },
     "execution_count": 190,
     "metadata": {},
     "output_type": "execute_result"
    }
   ],
   "source": [
    "l"
   ]
  },
  {
   "cell_type": "code",
   "execution_count": 196,
   "id": "1fbba8e9-b312-4bdf-8a06-f340a0857675",
   "metadata": {},
   "outputs": [
    {
     "data": {
      "text/plain": [
       "[10, 20, 50, 50, 20, 50, [60, 70], 'hello', 60, 70]"
      ]
     },
     "execution_count": 196,
     "metadata": {},
     "output_type": "execute_result"
    }
   ],
   "source": [
    "a"
   ]
  },
  {
   "cell_type": "code",
   "execution_count": 197,
   "id": "982eda26-bf5f-452c-9c1d-3bfe425d331d",
   "metadata": {},
   "outputs": [],
   "source": [
    "a.insert(4,5)"
   ]
  },
  {
   "cell_type": "code",
   "execution_count": 198,
   "id": "4c23a2c9-0ef7-4c4a-b438-3e945dfd3789",
   "metadata": {},
   "outputs": [
    {
     "data": {
      "text/plain": [
       "[10, 20, 50, 50, 5, 20, 50, [60, 70], 'hello', 60, 70]"
      ]
     },
     "execution_count": 198,
     "metadata": {},
     "output_type": "execute_result"
    }
   ],
   "source": [
    "a"
   ]
  },
  {
   "cell_type": "code",
   "execution_count": 200,
   "id": "ec36a341-eca6-486b-824e-8e05a19699f3",
   "metadata": {},
   "outputs": [],
   "source": [
    "a.insert(2,2)"
   ]
  },
  {
   "cell_type": "code",
   "execution_count": 201,
   "id": "cb7cce73-38fa-423e-9192-15b030bdcfec",
   "metadata": {},
   "outputs": [
    {
     "data": {
      "text/plain": [
       "[10, 20, 2, 50, 50, 5, 20, 50, [60, 70], 'hello', 60, 70]"
      ]
     },
     "execution_count": 201,
     "metadata": {},
     "output_type": "execute_result"
    }
   ],
   "source": [
    "a"
   ]
  },
  {
   "cell_type": "markdown",
   "id": "394c2168-a1dc-4edd-9847-7c69d84b07c2",
   "metadata": {},
   "source": [
    "# Remove fuction"
   ]
  },
  {
   "cell_type": "code",
   "execution_count": 202,
   "id": "ea4907a2-70c2-4e76-b77a-223eedb3684f",
   "metadata": {},
   "outputs": [
    {
     "data": {
      "text/plain": [
       "[1, 1, 2, 4, 1, 20, 4, 200, 2, 4, 300, 400, 500, 200, 100, 200, 400, 100, 200]"
      ]
     },
     "execution_count": 202,
     "metadata": {},
     "output_type": "execute_result"
    }
   ],
   "source": [
    "l"
   ]
  },
  {
   "cell_type": "code",
   "execution_count": 204,
   "id": "847c197f-78a7-4a3d-9f2e-daaa0d8de118",
   "metadata": {},
   "outputs": [],
   "source": [
    "l.remove(200)"
   ]
  },
  {
   "cell_type": "code",
   "execution_count": 205,
   "id": "29ca4c9e-7732-4126-b1c7-89d0a20ece55",
   "metadata": {},
   "outputs": [
    {
     "data": {
      "text/plain": [
       "[1, 1, 2, 4, 1, 20, 4, 2, 4, 300, 400, 500, 200, 100, 200, 400, 100, 200]"
      ]
     },
     "execution_count": 205,
     "metadata": {},
     "output_type": "execute_result"
    }
   ],
   "source": [
    "l"
   ]
  },
  {
   "cell_type": "code",
   "execution_count": 206,
   "id": "84c0459e-d52b-4824-bb77-f43d04dc47e0",
   "metadata": {},
   "outputs": [],
   "source": [
    "l.remove(1)"
   ]
  },
  {
   "cell_type": "code",
   "execution_count": 207,
   "id": "c782eed5-d5ce-4f5d-a59c-e5726b8d0911",
   "metadata": {},
   "outputs": [
    {
     "data": {
      "text/plain": [
       "[1, 2, 4, 1, 20, 4, 2, 4, 300, 400, 500, 200, 100, 200, 400, 100, 200]"
      ]
     },
     "execution_count": 207,
     "metadata": {},
     "output_type": "execute_result"
    }
   ],
   "source": [
    "l"
   ]
  },
  {
   "cell_type": "code",
   "execution_count": 208,
   "id": "cdc8d85c-0cd7-476c-ad57-63d8ff9bc174",
   "metadata": {},
   "outputs": [],
   "source": [
    "l.remove(200)"
   ]
  },
  {
   "cell_type": "code",
   "execution_count": 209,
   "id": "609b2801-6160-4fdf-a3ab-b04e3e1a5901",
   "metadata": {},
   "outputs": [],
   "source": [
    "l.remove(4)"
   ]
  },
  {
   "cell_type": "code",
   "execution_count": 210,
   "id": "406c71ba-4aab-4d61-b2e5-fd468a70e571",
   "metadata": {},
   "outputs": [],
   "source": [
    "l.remove(20)"
   ]
  },
  {
   "cell_type": "code",
   "execution_count": 211,
   "id": "32e35207-422d-437e-8a76-b0749b4d4094",
   "metadata": {},
   "outputs": [
    {
     "data": {
      "text/plain": [
       "[1, 2, 1, 4, 2, 4, 300, 400, 500, 100, 200, 400, 100, 200]"
      ]
     },
     "execution_count": 211,
     "metadata": {},
     "output_type": "execute_result"
    }
   ],
   "source": [
    "l"
   ]
  },
  {
   "cell_type": "code",
   "execution_count": 214,
   "id": "e40c7985-8d4b-4b84-95e7-87b258e238f7",
   "metadata": {},
   "outputs": [],
   "source": [
    "l.remove(1)"
   ]
  },
  {
   "cell_type": "code",
   "execution_count": 215,
   "id": "b1198915-031d-48b4-bd18-c3986da36eea",
   "metadata": {},
   "outputs": [],
   "source": [
    "l.remove(1)"
   ]
  },
  {
   "cell_type": "code",
   "execution_count": 216,
   "id": "bb9274b2-8915-4563-b618-1008e91b477b",
   "metadata": {},
   "outputs": [],
   "source": [
    "l.remove(4)"
   ]
  },
  {
   "cell_type": "code",
   "execution_count": 217,
   "id": "363e80a8-cbd8-4847-814e-69e33ef31bf6",
   "metadata": {},
   "outputs": [],
   "source": [
    "l.remove(4)"
   ]
  },
  {
   "cell_type": "code",
   "execution_count": 218,
   "id": "ea6661fa-4b84-47a7-836b-a5d5308dd1ca",
   "metadata": {},
   "outputs": [
    {
     "data": {
      "text/plain": [
       "[2, 2, 300, 400, 500, 100, 200, 400, 100, 200]"
      ]
     },
     "execution_count": 218,
     "metadata": {},
     "output_type": "execute_result"
    }
   ],
   "source": [
    "l"
   ]
  },
  {
   "cell_type": "code",
   "execution_count": 219,
   "id": "01bdaddc-dbe2-4987-a1ae-25349d6b5884",
   "metadata": {},
   "outputs": [
    {
     "data": {
      "text/plain": [
       "[10, 20, 2, 50, 50, 5, 20, 50, [60, 70], 'hello', 60, 70]"
      ]
     },
     "execution_count": 219,
     "metadata": {},
     "output_type": "execute_result"
    }
   ],
   "source": [
    "a"
   ]
  },
  {
   "cell_type": "code",
   "execution_count": 220,
   "id": "3ead2dcb-d146-4326-90f2-26134a51c7a4",
   "metadata": {},
   "outputs": [],
   "source": [
    "a.remove(20)"
   ]
  },
  {
   "cell_type": "code",
   "execution_count": 221,
   "id": "f83551e3-a585-45a5-8943-af3c5ca569ce",
   "metadata": {},
   "outputs": [],
   "source": [
    "a.remove(50)"
   ]
  },
  {
   "cell_type": "code",
   "execution_count": 222,
   "id": "37902bb5-a2bd-48b5-af54-19c2ec2693f4",
   "metadata": {},
   "outputs": [],
   "source": [
    "a.remove(2)"
   ]
  },
  {
   "cell_type": "code",
   "execution_count": 223,
   "id": "b95ba569-ae04-412c-a9dc-7ea7e6986aaf",
   "metadata": {},
   "outputs": [],
   "source": [
    "a.remove([60,70])"
   ]
  },
  {
   "cell_type": "markdown",
   "id": "b0b1ae22-d620-48e2-8373-02131977dc98",
   "metadata": {},
   "source": [
    "# Pop function"
   ]
  },
  {
   "cell_type": "code",
   "execution_count": 224,
   "id": "c95733c2-8ecd-4dd2-9040-56c87bb0d5d3",
   "metadata": {},
   "outputs": [
    {
     "data": {
      "text/plain": [
       "[10, 50, 5, 20, 50, 'hello', 60, 70]"
      ]
     },
     "execution_count": 224,
     "metadata": {},
     "output_type": "execute_result"
    }
   ],
   "source": [
    "a"
   ]
  },
  {
   "cell_type": "code",
   "execution_count": 225,
   "id": "5d851c85-c40c-4504-987f-560ab4597330",
   "metadata": {},
   "outputs": [
    {
     "data": {
      "text/plain": [
       "70"
      ]
     },
     "execution_count": 225,
     "metadata": {},
     "output_type": "execute_result"
    }
   ],
   "source": [
    "a.pop()"
   ]
  },
  {
   "cell_type": "code",
   "execution_count": 230,
   "id": "16e5c8eb-7709-4179-ad73-3f19b5ac8ba3",
   "metadata": {},
   "outputs": [
    {
     "data": {
      "text/plain": [
       "[100, 400, 200, 100, 500, 400, 300, 2, 2]"
      ]
     },
     "execution_count": 230,
     "metadata": {},
     "output_type": "execute_result"
    }
   ],
   "source": [
    "l"
   ]
  },
  {
   "cell_type": "code",
   "execution_count": 231,
   "id": "777541ad-8ca9-4d13-a14d-43c2e58bc6e1",
   "metadata": {},
   "outputs": [
    {
     "data": {
      "text/plain": [
       "2"
      ]
     },
     "execution_count": 231,
     "metadata": {},
     "output_type": "execute_result"
    }
   ],
   "source": [
    "l.pop()"
   ]
  },
  {
   "cell_type": "markdown",
   "id": "46814084-c3bc-4e91-8596-400d1308a65a",
   "metadata": {},
   "source": [
    "# Reverse fuction"
   ]
  },
  {
   "cell_type": "code",
   "execution_count": 232,
   "id": "5aaa6847-0a0b-4a8d-8ecf-76cd82f0826c",
   "metadata": {},
   "outputs": [],
   "source": [
    "l.reverse()"
   ]
  },
  {
   "cell_type": "code",
   "execution_count": 233,
   "id": "9508776c-3f80-4e2b-9f8c-0258f720295f",
   "metadata": {},
   "outputs": [
    {
     "data": {
      "text/plain": [
       "[2, 300, 400, 500, 100, 200, 400, 100]"
      ]
     },
     "execution_count": 233,
     "metadata": {},
     "output_type": "execute_result"
    }
   ],
   "source": [
    "l"
   ]
  },
  {
   "cell_type": "code",
   "execution_count": 234,
   "id": "163dbc60-f9e1-4af4-a51b-3b5164689a7c",
   "metadata": {},
   "outputs": [
    {
     "data": {
      "text/plain": [
       "[10, 50, 5, 20, 50, 'hello', 60]"
      ]
     },
     "execution_count": 234,
     "metadata": {},
     "output_type": "execute_result"
    }
   ],
   "source": [
    "a"
   ]
  },
  {
   "cell_type": "code",
   "execution_count": 235,
   "id": "15d43c38-d5b8-490e-831a-f444761daee6",
   "metadata": {},
   "outputs": [],
   "source": [
    "a.reverse()"
   ]
  },
  {
   "cell_type": "code",
   "execution_count": 236,
   "id": "09b263a9-0964-4795-bbc8-8aa213d68122",
   "metadata": {},
   "outputs": [
    {
     "data": {
      "text/plain": [
       "[60, 'hello', 50, 20, 5, 50, 10]"
      ]
     },
     "execution_count": 236,
     "metadata": {},
     "output_type": "execute_result"
    }
   ],
   "source": [
    "a"
   ]
  },
  {
   "cell_type": "markdown",
   "id": "5958073c-ca91-478b-b696-73c92c62e1ed",
   "metadata": {},
   "source": [
    "# Copy Function"
   ]
  },
  {
   "cell_type": "code",
   "execution_count": 237,
   "id": "50282b0e-7939-4336-9fa5-dd72e678ed70",
   "metadata": {},
   "outputs": [],
   "source": [
    "data=[1,2,3,4,5]"
   ]
  },
  {
   "cell_type": "code",
   "execution_count": 238,
   "id": "7f3d84d0-8119-4e57-a808-c48edf16cf57",
   "metadata": {},
   "outputs": [],
   "source": [
    "data_2 = data"
   ]
  },
  {
   "cell_type": "code",
   "execution_count": 239,
   "id": "454049f0-4b14-4608-92f8-fda63aba02a3",
   "metadata": {},
   "outputs": [
    {
     "data": {
      "text/plain": [
       "[1, 2, 3, 4, 5]"
      ]
     },
     "execution_count": 239,
     "metadata": {},
     "output_type": "execute_result"
    }
   ],
   "source": [
    "data_2"
   ]
  },
  {
   "cell_type": "code",
   "execution_count": 240,
   "id": "059248c5-5fac-4eaf-8e6c-5237e6ffba2d",
   "metadata": {},
   "outputs": [],
   "source": [
    "data[0]=100"
   ]
  },
  {
   "cell_type": "code",
   "execution_count": 241,
   "id": "61970932-16f1-4ca6-aaa5-775be19eb9a0",
   "metadata": {},
   "outputs": [
    {
     "data": {
      "text/plain": [
       "[100, 2, 3, 4, 5]"
      ]
     },
     "execution_count": 241,
     "metadata": {},
     "output_type": "execute_result"
    }
   ],
   "source": [
    "data"
   ]
  },
  {
   "cell_type": "code",
   "execution_count": 242,
   "id": "fcc1da85-d323-4dc0-96c9-7841f46a316e",
   "metadata": {},
   "outputs": [
    {
     "data": {
      "text/plain": [
       "[100, 2, 3, 4, 5]"
      ]
     },
     "execution_count": 242,
     "metadata": {},
     "output_type": "execute_result"
    }
   ],
   "source": [
    "data_2"
   ]
  },
  {
   "cell_type": "code",
   "execution_count": 243,
   "id": "cca47cb4-29b7-40d0-8392-d9d1780d091d",
   "metadata": {},
   "outputs": [],
   "source": [
    "data_copy = data.copy()"
   ]
  },
  {
   "cell_type": "code",
   "execution_count": 244,
   "id": "27f68ffa-e91e-4494-9118-f7df1ecfe0c0",
   "metadata": {},
   "outputs": [
    {
     "data": {
      "text/plain": [
       "[100, 2, 3, 4, 5]"
      ]
     },
     "execution_count": 244,
     "metadata": {},
     "output_type": "execute_result"
    }
   ],
   "source": [
    "data_copy"
   ]
  },
  {
   "cell_type": "code",
   "execution_count": 245,
   "id": "810d81c3-85c6-439b-87a4-d83c6b98e4af",
   "metadata": {},
   "outputs": [
    {
     "data": {
      "text/plain": [
       "[100, 2, 3, 4, 5]"
      ]
     },
     "execution_count": 245,
     "metadata": {},
     "output_type": "execute_result"
    }
   ],
   "source": [
    "data"
   ]
  },
  {
   "cell_type": "code",
   "execution_count": 246,
   "id": "36c8362e-da67-400d-b302-9a856867b332",
   "metadata": {},
   "outputs": [],
   "source": [
    "data.append('hello')"
   ]
  },
  {
   "cell_type": "code",
   "execution_count": 247,
   "id": "f345c1f4-503d-4930-a79a-5fc1ab22d632",
   "metadata": {},
   "outputs": [
    {
     "data": {
      "text/plain": [
       "[100, 2, 3, 4, 5, 'hello']"
      ]
     },
     "execution_count": 247,
     "metadata": {},
     "output_type": "execute_result"
    }
   ],
   "source": [
    "data"
   ]
  },
  {
   "cell_type": "code",
   "execution_count": 248,
   "id": "4dd381d1-f2e4-4dd7-94fa-5e93a4e246c7",
   "metadata": {},
   "outputs": [
    {
     "data": {
      "text/plain": [
       "[100, 2, 3, 4, 5, 'hello']"
      ]
     },
     "execution_count": 248,
     "metadata": {},
     "output_type": "execute_result"
    }
   ],
   "source": [
    "data_2"
   ]
  },
  {
   "cell_type": "code",
   "execution_count": 249,
   "id": "7e90e458-051c-40b1-9de4-b4522186ab68",
   "metadata": {},
   "outputs": [
    {
     "data": {
      "text/plain": [
       "[100, 2, 3, 4, 5]"
      ]
     },
     "execution_count": 249,
     "metadata": {},
     "output_type": "execute_result"
    }
   ],
   "source": [
    "data_copy"
   ]
  },
  {
   "cell_type": "code",
   "execution_count": 250,
   "id": "5906602d-9089-476d-ab91-08cd0254111c",
   "metadata": {},
   "outputs": [],
   "source": [
    "num = [2,4,6,8]"
   ]
  },
  {
   "cell_type": "code",
   "execution_count": 251,
   "id": "88748fa7-f9b1-417b-b2a1-8cd5c3f7691b",
   "metadata": {},
   "outputs": [
    {
     "data": {
      "text/plain": [
       "[2, 4, 6, 8]"
      ]
     },
     "execution_count": 251,
     "metadata": {},
     "output_type": "execute_result"
    }
   ],
   "source": [
    "num"
   ]
  },
  {
   "cell_type": "code",
   "execution_count": 253,
   "id": "10f415f5-1775-47f8-a663-fe6998e5114d",
   "metadata": {},
   "outputs": [],
   "source": [
    "num_1 = num"
   ]
  },
  {
   "cell_type": "code",
   "execution_count": 254,
   "id": "7dfbcadd-7488-402e-9170-492fad53a54c",
   "metadata": {},
   "outputs": [
    {
     "data": {
      "text/plain": [
       "[2, 4, 6, 8]"
      ]
     },
     "execution_count": 254,
     "metadata": {},
     "output_type": "execute_result"
    }
   ],
   "source": [
    "num_1"
   ]
  },
  {
   "cell_type": "code",
   "execution_count": 255,
   "id": "d3351e98-1667-4783-888a-c1a071c9f4e6",
   "metadata": {},
   "outputs": [],
   "source": [
    "num_copy = num.copy()"
   ]
  },
  {
   "cell_type": "code",
   "execution_count": 256,
   "id": "632c1100-549e-4ecb-83a9-3b4bbcb33fa5",
   "metadata": {},
   "outputs": [
    {
     "data": {
      "text/plain": [
       "[2, 4, 6, 8]"
      ]
     },
     "execution_count": 256,
     "metadata": {},
     "output_type": "execute_result"
    }
   ],
   "source": [
    "num_copy"
   ]
  },
  {
   "cell_type": "code",
   "execution_count": 257,
   "id": "0b1f3b06-210c-4fec-a315-3f90a88b6b9f",
   "metadata": {},
   "outputs": [
    {
     "data": {
      "text/plain": [
       "[2, 4, 6, 8]"
      ]
     },
     "execution_count": 257,
     "metadata": {},
     "output_type": "execute_result"
    }
   ],
   "source": [
    "num"
   ]
  },
  {
   "cell_type": "code",
   "execution_count": 262,
   "id": "42bc19dd-331c-42e6-aff5-5a7504d977f7",
   "metadata": {},
   "outputs": [],
   "source": [
    "num.insert(1,2)"
   ]
  },
  {
   "cell_type": "code",
   "execution_count": 263,
   "id": "7bbd7317-038a-4e85-9b11-82f59bddc622",
   "metadata": {},
   "outputs": [
    {
     "data": {
      "text/plain": [
       "[2, 2, 4, 6, 8, 2]"
      ]
     },
     "execution_count": 263,
     "metadata": {},
     "output_type": "execute_result"
    }
   ],
   "source": [
    "num"
   ]
  },
  {
   "cell_type": "code",
   "execution_count": 264,
   "id": "b6775e54-b546-44ab-b24a-743f789372d4",
   "metadata": {},
   "outputs": [
    {
     "data": {
      "text/plain": [
       "[2, 2, 4, 6, 8, 2]"
      ]
     },
     "execution_count": 264,
     "metadata": {},
     "output_type": "execute_result"
    }
   ],
   "source": [
    "num_1"
   ]
  },
  {
   "cell_type": "code",
   "execution_count": 265,
   "id": "260818ef-db76-47ee-a2cd-94da08df526d",
   "metadata": {},
   "outputs": [
    {
     "data": {
      "text/plain": [
       "[2, 4, 6, 8]"
      ]
     },
     "execution_count": 265,
     "metadata": {},
     "output_type": "execute_result"
    }
   ],
   "source": [
    "num_copy"
   ]
  }
 ],
 "metadata": {
  "kernelspec": {
   "display_name": "Python 3 (ipykernel)",
   "language": "python",
   "name": "python3"
  },
  "language_info": {
   "codemirror_mode": {
    "name": "ipython",
    "version": 3
   },
   "file_extension": ".py",
   "mimetype": "text/x-python",
   "name": "python",
   "nbconvert_exporter": "python",
   "pygments_lexer": "ipython3",
   "version": "3.12.7"
  }
 },
 "nbformat": 4,
 "nbformat_minor": 5
}
