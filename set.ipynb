{
 "cells": [
  {
   "cell_type": "markdown",
   "id": "3b2d4772-9488-4a9a-b87e-58285dceb0c5",
   "metadata": {},
   "source": [
    "# Set"
   ]
  },
  {
   "cell_type": "code",
   "execution_count": 1,
   "id": "cc56bd41-2c75-4aa6-bddf-915c80e0525d",
   "metadata": {},
   "outputs": [],
   "source": [
    "a = {1,1,1,2,2,2,3,3}"
   ]
  },
  {
   "cell_type": "code",
   "execution_count": 2,
   "id": "713b84a7-0b53-404c-8330-caebed50540e",
   "metadata": {},
   "outputs": [
    {
     "data": {
      "text/plain": [
       "{1, 2, 3}"
      ]
     },
     "execution_count": 2,
     "metadata": {},
     "output_type": "execute_result"
    }
   ],
   "source": [
    "a"
   ]
  },
  {
   "cell_type": "code",
   "execution_count": 21,
   "id": "46313fd4-9beb-49ac-b8bd-b2fc8fce6307",
   "metadata": {},
   "outputs": [],
   "source": [
    "set_1 = {4,5,6,7,8,9}"
   ]
  },
  {
   "cell_type": "code",
   "execution_count": 22,
   "id": "b767d9ac-6276-4f8d-ada5-9cf47fe610c0",
   "metadata": {},
   "outputs": [
    {
     "data": {
      "text/plain": [
       "{4, 5, 6, 7, 8, 9}"
      ]
     },
     "execution_count": 22,
     "metadata": {},
     "output_type": "execute_result"
    }
   ],
   "source": [
    "set_1"
   ]
  },
  {
   "cell_type": "code",
   "execution_count": 27,
   "id": "f4f17b4f-0ceb-4b5a-a986-706d8eeca910",
   "metadata": {},
   "outputs": [],
   "source": [
    "set_2 = {4,5,6,7,1,2}"
   ]
  },
  {
   "cell_type": "code",
   "execution_count": 28,
   "id": "7deeaf74-eaf9-4e59-8eaa-e83bcb562676",
   "metadata": {},
   "outputs": [
    {
     "data": {
      "text/plain": [
       "{1, 2, 4, 5, 6, 7}"
      ]
     },
     "execution_count": 28,
     "metadata": {},
     "output_type": "execute_result"
    }
   ],
   "source": [
    "set_2"
   ]
  },
  {
   "cell_type": "code",
   "execution_count": 29,
   "id": "2bcf07a4-a332-4c7d-9c91-e6cf22ee2d6b",
   "metadata": {},
   "outputs": [
    {
     "data": {
      "text/plain": [
       "{4, 5, 6, 7}"
      ]
     },
     "execution_count": 29,
     "metadata": {},
     "output_type": "execute_result"
    }
   ],
   "source": [
    "set_1.intersection(set_2)"
   ]
  },
  {
   "cell_type": "code",
   "execution_count": 30,
   "id": "bae41f2e-b5e4-4d64-9fa7-a0938a8807e1",
   "metadata": {},
   "outputs": [
    {
     "data": {
      "text/plain": [
       "{1, 2, 4, 5, 6, 7, 8, 9}"
      ]
     },
     "execution_count": 30,
     "metadata": {},
     "output_type": "execute_result"
    }
   ],
   "source": [
    "set_1.union(set_2)"
   ]
  },
  {
   "cell_type": "code",
   "execution_count": 31,
   "id": "11ed565a-b3af-43d6-908c-79796932270d",
   "metadata": {},
   "outputs": [
    {
     "data": {
      "text/plain": [
       "{8, 9}"
      ]
     },
     "execution_count": 31,
     "metadata": {},
     "output_type": "execute_result"
    }
   ],
   "source": [
    "set_1.difference(set_2)"
   ]
  },
  {
   "cell_type": "code",
   "execution_count": 32,
   "id": "cc53be13-b101-46d4-9319-bd3e30a25864",
   "metadata": {},
   "outputs": [
    {
     "data": {
      "text/plain": [
       "{1, 2}"
      ]
     },
     "execution_count": 32,
     "metadata": {},
     "output_type": "execute_result"
    }
   ],
   "source": [
    "set_2.difference(set_1)"
   ]
  },
  {
   "cell_type": "code",
   "execution_count": 36,
   "id": "4ddb1594-0053-477d-8f48-a3bb44a50901",
   "metadata": {},
   "outputs": [],
   "source": [
    "l=[1,1,1,2,3,3,4,5,6,7,5,3,2,1,4,6]"
   ]
  },
  {
   "cell_type": "code",
   "execution_count": 37,
   "id": "f701e918-ec4d-4cd1-8d6f-55cf4267bb2b",
   "metadata": {},
   "outputs": [
    {
     "data": {
      "text/plain": [
       "[1, 1, 1, 2, 3, 3, 4, 5, 6, 7, 5, 3, 2, 1, 4, 6]"
      ]
     },
     "execution_count": 37,
     "metadata": {},
     "output_type": "execute_result"
    }
   ],
   "source": [
    "l"
   ]
  },
  {
   "cell_type": "code",
   "execution_count": 38,
   "id": "333f1aa4-76d4-4a2b-9a2b-fbd362998440",
   "metadata": {},
   "outputs": [],
   "source": [
    "l=set(l)"
   ]
  },
  {
   "cell_type": "code",
   "execution_count": 39,
   "id": "1f7b9eb0-74f4-4075-aec8-845d1d0e2713",
   "metadata": {},
   "outputs": [
    {
     "data": {
      "text/plain": [
       "{1, 2, 3, 4, 5, 6, 7}"
      ]
     },
     "execution_count": 39,
     "metadata": {},
     "output_type": "execute_result"
    }
   ],
   "source": [
    "l"
   ]
  },
  {
   "cell_type": "code",
   "execution_count": 40,
   "id": "d713cf82-fad0-4f42-8916-957342663e3d",
   "metadata": {},
   "outputs": [],
   "source": [
    "l=list(l)"
   ]
  },
  {
   "cell_type": "code",
   "execution_count": 41,
   "id": "de5d7bc9-1337-4ceb-b327-ba6360fa1cb0",
   "metadata": {},
   "outputs": [
    {
     "data": {
      "text/plain": [
       "[1, 2, 3, 4, 5, 6, 7]"
      ]
     },
     "execution_count": 41,
     "metadata": {},
     "output_type": "execute_result"
    }
   ],
   "source": [
    "l"
   ]
  },
  {
   "cell_type": "code",
   "execution_count": 55,
   "id": "35fa6e8d-829a-4ae3-91e3-ef34c04ce495",
   "metadata": {},
   "outputs": [],
   "source": [
    "b={5,6,7,8}"
   ]
  },
  {
   "cell_type": "code",
   "execution_count": 56,
   "id": "e999e284-8eb1-4a0a-8572-c6d95b321f3a",
   "metadata": {},
   "outputs": [
    {
     "data": {
      "text/plain": [
       "{2, 3, 4, 5, 6}"
      ]
     },
     "execution_count": 56,
     "metadata": {},
     "output_type": "execute_result"
    }
   ],
   "source": [
    "b"
   ]
  },
  {
   "cell_type": "code",
   "execution_count": 70,
   "id": "df50e672-75b9-481d-b0dd-03a9b5abe525",
   "metadata": {},
   "outputs": [],
   "source": [
    "b_1={3,4,5,6,8}"
   ]
  },
  {
   "cell_type": "code",
   "execution_count": 71,
   "id": "454531b7-f165-4858-b9dd-feb760ec907e",
   "metadata": {},
   "outputs": [
    {
     "data": {
      "text/plain": [
       "{3, 4, 5, 6, 8}"
      ]
     },
     "execution_count": 71,
     "metadata": {},
     "output_type": "execute_result"
    }
   ],
   "source": [
    "b_1"
   ]
  },
  {
   "cell_type": "code",
   "execution_count": 72,
   "id": "09d40313-f259-440d-afd6-016fb7096414",
   "metadata": {},
   "outputs": [
    {
     "data": {
      "text/plain": [
       "{3, 4, 5, 6}"
      ]
     },
     "execution_count": 72,
     "metadata": {},
     "output_type": "execute_result"
    }
   ],
   "source": [
    "b_1.intersection(b)"
   ]
  },
  {
   "cell_type": "code",
   "execution_count": 73,
   "id": "a85b208e-eb3a-4f21-893b-27b4a5bb2b5d",
   "metadata": {},
   "outputs": [],
   "source": [
    "b_2={8,9,7,1,2}"
   ]
  },
  {
   "cell_type": "code",
   "execution_count": 74,
   "id": "732552d0-b6e6-4a54-a769-984a8097a18c",
   "metadata": {},
   "outputs": [
    {
     "data": {
      "text/plain": [
       "{1, 2, 7, 8, 9}"
      ]
     },
     "execution_count": 74,
     "metadata": {},
     "output_type": "execute_result"
    }
   ],
   "source": [
    "b_2"
   ]
  },
  {
   "cell_type": "code",
   "execution_count": 75,
   "id": "7084efc0-9b9a-4720-b60b-000cb8f8214e",
   "metadata": {},
   "outputs": [
    {
     "data": {
      "text/plain": [
       "{1, 2, 7, 9}"
      ]
     },
     "execution_count": 75,
     "metadata": {},
     "output_type": "execute_result"
    }
   ],
   "source": [
    "b_2.difference(b_1)"
   ]
  },
  {
   "cell_type": "code",
   "execution_count": 76,
   "id": "02e98191-204a-4d1f-a9ab-c373a2674890",
   "metadata": {},
   "outputs": [
    {
     "data": {
      "text/plain": [
       "{3, 4, 5, 6}"
      ]
     },
     "execution_count": 76,
     "metadata": {},
     "output_type": "execute_result"
    }
   ],
   "source": [
    "b_1.difference(b_2)"
   ]
  },
  {
   "cell_type": "code",
   "execution_count": 77,
   "id": "9f4caa8b-4f1f-45e9-95b8-c811cbe9e89e",
   "metadata": {},
   "outputs": [
    {
     "data": {
      "text/plain": [
       "{8}"
      ]
     },
     "execution_count": 77,
     "metadata": {},
     "output_type": "execute_result"
    }
   ],
   "source": [
    "b_2.intersection(b_1)"
   ]
  },
  {
   "cell_type": "code",
   "execution_count": 78,
   "id": "44022e12-6046-450a-8973-00759674adce",
   "metadata": {},
   "outputs": [
    {
     "data": {
      "text/plain": [
       "{8}"
      ]
     },
     "execution_count": 78,
     "metadata": {},
     "output_type": "execute_result"
    }
   ],
   "source": [
    "b_1.intersection(b_2)"
   ]
  },
  {
   "cell_type": "code",
   "execution_count": 88,
   "id": "e2ea0e00-27d1-432c-bc5d-9303372424c5",
   "metadata": {},
   "outputs": [],
   "source": [
    "a={2,3,4,5,6,7,8}"
   ]
  },
  {
   "cell_type": "code",
   "execution_count": 89,
   "id": "7e475725-b118-43f9-9567-235b8b776109",
   "metadata": {},
   "outputs": [
    {
     "data": {
      "text/plain": [
       "{2, 3, 4, 5, 6, 7, 8}"
      ]
     },
     "execution_count": 89,
     "metadata": {},
     "output_type": "execute_result"
    }
   ],
   "source": [
    "a"
   ]
  },
  {
   "cell_type": "code",
   "execution_count": 90,
   "id": "300dc94a-618c-484d-8f05-baa6f66ecefc",
   "metadata": {},
   "outputs": [],
   "source": [
    "a=list(a)"
   ]
  },
  {
   "cell_type": "code",
   "execution_count": 91,
   "id": "9cfe1f48-e58a-4c2f-940c-6fab85fe8c74",
   "metadata": {},
   "outputs": [
    {
     "data": {
      "text/plain": [
       "[2, 3, 4, 5, 6, 7, 8]"
      ]
     },
     "execution_count": 91,
     "metadata": {},
     "output_type": "execute_result"
    }
   ],
   "source": [
    "a"
   ]
  },
  {
   "cell_type": "code",
   "execution_count": 92,
   "id": "cb62ee94-5214-4786-9151-8a69b7aed4dd",
   "metadata": {},
   "outputs": [],
   "source": [
    "a=set(a)"
   ]
  },
  {
   "cell_type": "code",
   "execution_count": 93,
   "id": "ae7fc6a6-5ea2-42aa-83c7-d5f010aebe57",
   "metadata": {},
   "outputs": [
    {
     "data": {
      "text/plain": [
       "{2, 3, 4, 5, 6, 7, 8}"
      ]
     },
     "execution_count": 93,
     "metadata": {},
     "output_type": "execute_result"
    }
   ],
   "source": [
    "a"
   ]
  },
  {
   "cell_type": "code",
   "execution_count": 94,
   "id": "4ab53092-869c-460e-840b-5cf5cc10d8df",
   "metadata": {},
   "outputs": [],
   "source": [
    "a=tuple(a)"
   ]
  },
  {
   "cell_type": "code",
   "execution_count": 95,
   "id": "0fe8048a-fd2d-4784-8e2d-860bee34dec1",
   "metadata": {},
   "outputs": [
    {
     "data": {
      "text/plain": [
       "(2, 3, 4, 5, 6, 7, 8)"
      ]
     },
     "execution_count": 95,
     "metadata": {},
     "output_type": "execute_result"
    }
   ],
   "source": [
    "a"
   ]
  },
  {
   "cell_type": "code",
   "execution_count": 97,
   "id": "d1da47a2-a0c6-4ebe-9ff2-5d30fcd078e4",
   "metadata": {},
   "outputs": [],
   "source": [
    "a=set(a)"
   ]
  },
  {
   "cell_type": "code",
   "execution_count": 98,
   "id": "c0031588-e57b-4aee-8340-203e71b84749",
   "metadata": {},
   "outputs": [
    {
     "data": {
      "text/plain": [
       "{2, 3, 4, 5, 6, 7, 8}"
      ]
     },
     "execution_count": 98,
     "metadata": {},
     "output_type": "execute_result"
    }
   ],
   "source": [
    "a"
   ]
  },
  {
   "cell_type": "code",
   "execution_count": 99,
   "id": "c1d39960-de77-40f8-a050-93fa131cb100",
   "metadata": {},
   "outputs": [
    {
     "data": {
      "text/plain": [
       "{2, 3, 4, 5, 6, 7}"
      ]
     },
     "execution_count": 99,
     "metadata": {},
     "output_type": "execute_result"
    }
   ],
   "source": [
    "a.intersection(l)"
   ]
  },
  {
   "cell_type": "code",
   "execution_count": 101,
   "id": "58fbf1e9-77bb-4c83-beaf-16d14dc9baa3",
   "metadata": {},
   "outputs": [
    {
     "data": {
      "text/plain": [
       "{3, 4, 5, 6, 8}"
      ]
     },
     "execution_count": 101,
     "metadata": {},
     "output_type": "execute_result"
    }
   ],
   "source": [
    "b_1.intersection(a)"
   ]
  },
  {
   "cell_type": "code",
   "execution_count": 102,
   "id": "f30840fa-7fb9-428c-b4c7-09cdc7244076",
   "metadata": {},
   "outputs": [
    {
     "data": {
      "text/plain": [
       "{2, 7}"
      ]
     },
     "execution_count": 102,
     "metadata": {},
     "output_type": "execute_result"
    }
   ],
   "source": [
    "a.difference(b_1)"
   ]
  },
  {
   "cell_type": "code",
   "execution_count": 104,
   "id": "343ad764-8fe0-49d4-8e89-04e82831210c",
   "metadata": {},
   "outputs": [],
   "source": [
    "H = {10,20,30,40}"
   ]
  },
  {
   "cell_type": "code",
   "execution_count": 105,
   "id": "a8589fa4-e651-46fe-8f01-9a7f5dd9f659",
   "metadata": {},
   "outputs": [
    {
     "data": {
      "text/plain": [
       "{10, 20, 30, 40}"
      ]
     },
     "execution_count": 105,
     "metadata": {},
     "output_type": "execute_result"
    }
   ],
   "source": [
    "H"
   ]
  },
  {
   "cell_type": "code",
   "execution_count": 106,
   "id": "e5880292-d731-46e1-9d6b-ce0cd2de0438",
   "metadata": {},
   "outputs": [],
   "source": [
    "G={20,40,50,60}"
   ]
  },
  {
   "cell_type": "code",
   "execution_count": 107,
   "id": "19668a1f-eaa5-4f1b-9cd6-903db5a8d6c6",
   "metadata": {},
   "outputs": [
    {
     "data": {
      "text/plain": [
       "{20, 40, 50, 60}"
      ]
     },
     "execution_count": 107,
     "metadata": {},
     "output_type": "execute_result"
    }
   ],
   "source": [
    "G"
   ]
  },
  {
   "cell_type": "code",
   "execution_count": 108,
   "id": "2f50c29c-b2ac-4947-bf31-2ea80d3cc8f0",
   "metadata": {},
   "outputs": [
    {
     "data": {
      "text/plain": [
       "{50, 60}"
      ]
     },
     "execution_count": 108,
     "metadata": {},
     "output_type": "execute_result"
    }
   ],
   "source": [
    "G.difference(H)"
   ]
  },
  {
   "cell_type": "code",
   "execution_count": 109,
   "id": "6cf58a35-81f0-4036-85ac-3781ba987373",
   "metadata": {},
   "outputs": [
    {
     "data": {
      "text/plain": [
       "{20, 40}"
      ]
     },
     "execution_count": 109,
     "metadata": {},
     "output_type": "execute_result"
    }
   ],
   "source": [
    "G.intersection(H)"
   ]
  },
  {
   "cell_type": "code",
   "execution_count": 111,
   "id": "3455c6ef-4d3f-4be2-8d76-19d8a06a3445",
   "metadata": {},
   "outputs": [
    {
     "data": {
      "text/plain": [
       "{10, 20, 30, 40, 50, 60}"
      ]
     },
     "execution_count": 111,
     "metadata": {},
     "output_type": "execute_result"
    }
   ],
   "source": [
    "G.union(H)"
   ]
  },
  {
   "cell_type": "code",
   "execution_count": null,
   "id": "ddf45d64-1281-452d-b848-acb5024fcfc0",
   "metadata": {},
   "outputs": [],
   "source": []
  }
 ],
 "metadata": {
  "kernelspec": {
   "display_name": "Python 3 (ipykernel)",
   "language": "python",
   "name": "python3"
  },
  "language_info": {
   "codemirror_mode": {
    "name": "ipython",
    "version": 3
   },
   "file_extension": ".py",
   "mimetype": "text/x-python",
   "name": "python",
   "nbconvert_exporter": "python",
   "pygments_lexer": "ipython3",
   "version": "3.12.7"
  }
 },
 "nbformat": 4,
 "nbformat_minor": 5
}
