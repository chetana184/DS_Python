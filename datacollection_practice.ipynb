{
 "cells": [
  {
   "cell_type": "code",
   "execution_count": 1,
   "id": "f9d3a35b-2bf9-4803-b5cf-d2942171d2fd",
   "metadata": {},
   "outputs": [],
   "source": [
    "l=[2,3,4,5]"
   ]
  },
  {
   "cell_type": "code",
   "execution_count": 2,
   "id": "5b872589-2b97-41b7-a265-8c9dccaf320c",
   "metadata": {},
   "outputs": [
    {
     "data": {
      "text/plain": [
       "[2, 3, 4, 5]"
      ]
     },
     "execution_count": 2,
     "metadata": {},
     "output_type": "execute_result"
    }
   ],
   "source": [
    "l"
   ]
  },
  {
   "cell_type": "code",
   "execution_count": 3,
   "id": "f3a44b21-bb6e-4dee-b1ef-991730e60de6",
   "metadata": {},
   "outputs": [
    {
     "data": {
      "text/plain": [
       "4"
      ]
     },
     "execution_count": 3,
     "metadata": {},
     "output_type": "execute_result"
    }
   ],
   "source": [
    "l[2]"
   ]
  },
  {
   "cell_type": "code",
   "execution_count": 6,
   "id": "a01ae76d-dda9-4c71-93e8-15189909607c",
   "metadata": {},
   "outputs": [],
   "source": [
    "l[1]=300"
   ]
  },
  {
   "cell_type": "code",
   "execution_count": 7,
   "id": "b2e1bc6f-6c73-43ea-afba-bcc067d39cfc",
   "metadata": {},
   "outputs": [
    {
     "data": {
      "text/plain": [
       "[2, 300, 4, 300]"
      ]
     },
     "execution_count": 7,
     "metadata": {},
     "output_type": "execute_result"
    }
   ],
   "source": [
    "l"
   ]
  },
  {
   "cell_type": "code",
   "execution_count": 8,
   "id": "0db63f14-accf-4815-b15f-bebd9a193bf5",
   "metadata": {},
   "outputs": [
    {
     "data": {
      "text/plain": [
       "[300, 4]"
      ]
     },
     "execution_count": 8,
     "metadata": {},
     "output_type": "execute_result"
    }
   ],
   "source": [
    "l[1:3]"
   ]
  },
  {
   "cell_type": "code",
   "execution_count": 9,
   "id": "e8e6eab4-ad4c-4da3-99b6-099824de9fc8",
   "metadata": {},
   "outputs": [
    {
     "data": {
      "text/plain": [
       "[300, 4, 300]"
      ]
     },
     "execution_count": 9,
     "metadata": {},
     "output_type": "execute_result"
    }
   ],
   "source": [
    "l[1:4]"
   ]
  },
  {
   "cell_type": "code",
   "execution_count": 10,
   "id": "95806461-f2d4-4c85-a7ce-346e96108bd0",
   "metadata": {},
   "outputs": [
    {
     "data": {
      "text/plain": [
       "[300, 4, 300, 2]"
      ]
     },
     "execution_count": 10,
     "metadata": {},
     "output_type": "execute_result"
    }
   ],
   "source": [
    "l[::-1]"
   ]
  },
  {
   "cell_type": "code",
   "execution_count": 12,
   "id": "bbdf1ee1-5811-41d0-b28e-8cf2d9a748b7",
   "metadata": {},
   "outputs": [],
   "source": [
    "A=[10,20,30,[5,6,7],20]"
   ]
  },
  {
   "cell_type": "code",
   "execution_count": 13,
   "id": "160c94b4-c908-4eb6-9433-9b56839104d9",
   "metadata": {},
   "outputs": [
    {
     "data": {
      "text/plain": [
       "[10, 20, 30, [5, 6, 7], 20]"
      ]
     },
     "execution_count": 13,
     "metadata": {},
     "output_type": "execute_result"
    }
   ],
   "source": [
    "A"
   ]
  },
  {
   "cell_type": "code",
   "execution_count": 14,
   "id": "ebaf9661-5c1a-4838-832a-f485108663cb",
   "metadata": {},
   "outputs": [
    {
     "data": {
      "text/plain": [
       "[10, 20, 30]"
      ]
     },
     "execution_count": 14,
     "metadata": {},
     "output_type": "execute_result"
    }
   ],
   "source": [
    "A[:3]"
   ]
  },
  {
   "cell_type": "code",
   "execution_count": 17,
   "id": "af235eec-440b-4cce-926a-09e5e647a749",
   "metadata": {},
   "outputs": [
    {
     "data": {
      "text/plain": [
       "[5, 6, 7]"
      ]
     },
     "execution_count": 17,
     "metadata": {},
     "output_type": "execute_result"
    }
   ],
   "source": [
    "A[3]"
   ]
  },
  {
   "cell_type": "code",
   "execution_count": 19,
   "id": "0b1e8da1-8312-4cc9-bab7-59c5fa47381c",
   "metadata": {},
   "outputs": [
    {
     "data": {
      "text/plain": [
       "5"
      ]
     },
     "execution_count": 19,
     "metadata": {},
     "output_type": "execute_result"
    }
   ],
   "source": [
    "A[3][0]"
   ]
  },
  {
   "cell_type": "code",
   "execution_count": 20,
   "id": "1e0649c3-bdc9-4312-a866-1b9d52cfe32c",
   "metadata": {},
   "outputs": [],
   "source": [
    "D1={'A':5, 'B': 10, 'C': 20}"
   ]
  },
  {
   "cell_type": "code",
   "execution_count": 21,
   "id": "1a0218cd-75cd-4aad-8812-daa11a610eb6",
   "metadata": {},
   "outputs": [
    {
     "data": {
      "text/plain": [
       "{'A': 5, 'B': 10, 'C': 20}"
      ]
     },
     "execution_count": 21,
     "metadata": {},
     "output_type": "execute_result"
    }
   ],
   "source": [
    "D1"
   ]
  },
  {
   "cell_type": "code",
   "execution_count": 22,
   "id": "169bbb0a-17da-4e69-b19d-c4dcafddca66",
   "metadata": {},
   "outputs": [
    {
     "data": {
      "text/plain": [
       "10"
      ]
     },
     "execution_count": 22,
     "metadata": {},
     "output_type": "execute_result"
    }
   ],
   "source": [
    "D1['B']"
   ]
  },
  {
   "cell_type": "code",
   "execution_count": 24,
   "id": "555f5792-7d99-4fa7-a2e3-c12923a538ed",
   "metadata": {},
   "outputs": [],
   "source": [
    "D1['B']=50"
   ]
  },
  {
   "cell_type": "code",
   "execution_count": null,
   "id": "c1fa94aa-44f1-495d-8bb2-452aa1db352c",
   "metadata": {},
   "outputs": [],
   "source": []
  }
 ],
 "metadata": {
  "kernelspec": {
   "display_name": "Python 3 (ipykernel)",
   "language": "python",
   "name": "python3"
  },
  "language_info": {
   "codemirror_mode": {
    "name": "ipython",
    "version": 3
   },
   "file_extension": ".py",
   "mimetype": "text/x-python",
   "name": "python",
   "nbconvert_exporter": "python",
   "pygments_lexer": "ipython3",
   "version": "3.12.7"
  }
 },
 "nbformat": 4,
 "nbformat_minor": 5
}
