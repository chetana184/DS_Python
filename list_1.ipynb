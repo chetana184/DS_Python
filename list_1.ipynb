{
 "cells": [
  {
   "cell_type": "markdown",
   "id": "5d23c862-2228-4dcd-8be3-cf97c2276034",
   "metadata": {},
   "source": [
    "# List"
   ]
  },
  {
   "cell_type": "code",
   "execution_count": 191,
   "id": "d6d38cb0-d851-4675-975a-29b1b1a180af",
   "metadata": {},
   "outputs": [],
   "source": [
    "a=[1, 2, 3, 4, 5, 6]"
   ]
  },
  {
   "cell_type": "code",
   "execution_count": 192,
   "id": "bd083773-7b73-4caa-8cde-66e912cfd15e",
   "metadata": {},
   "outputs": [
    {
     "data": {
      "text/plain": [
       "[1, 2, 3, 4, 5, 6]"
      ]
     },
     "execution_count": 192,
     "metadata": {},
     "output_type": "execute_result"
    }
   ],
   "source": [
    "a"
   ]
  },
  {
   "cell_type": "code",
   "execution_count": 193,
   "id": "88dd4680-ce2d-49a8-b56c-1a86aa8ab70a",
   "metadata": {},
   "outputs": [
    {
     "data": {
      "text/plain": [
       "list"
      ]
     },
     "execution_count": 193,
     "metadata": {},
     "output_type": "execute_result"
    }
   ],
   "source": [
    "type(a)"
   ]
  },
  {
   "cell_type": "code",
   "execution_count": 194,
   "id": "d354868e-e415-4a57-b301-0a6ebad0b964",
   "metadata": {},
   "outputs": [
    {
     "data": {
      "text/plain": [
       "[1, 2, 3, 4, 5, 6]"
      ]
     },
     "execution_count": 194,
     "metadata": {},
     "output_type": "execute_result"
    }
   ],
   "source": [
    "list(a)"
   ]
  },
  {
   "cell_type": "code",
   "execution_count": 195,
   "id": "9c1329b5-1b94-43e9-897b-e1259965c883",
   "metadata": {},
   "outputs": [
    {
     "data": {
      "text/plain": [
       "int"
      ]
     },
     "execution_count": 195,
     "metadata": {},
     "output_type": "execute_result"
    }
   ],
   "source": [
    "type(4)"
   ]
  },
  {
   "cell_type": "code",
   "execution_count": 200,
   "id": "83cd5017-98df-47de-b82d-b997fa1a6ad6",
   "metadata": {},
   "outputs": [],
   "source": [
    "b=[6, 'hello', 10+3j, 2.6 ]"
   ]
  },
  {
   "cell_type": "code",
   "execution_count": 201,
   "id": "d176f8c7-6444-4ed3-8d1d-5facb1dcff06",
   "metadata": {},
   "outputs": [
    {
     "data": {
      "text/plain": [
       "[6, 'hello', (10+3j), 2.6]"
      ]
     },
     "execution_count": 201,
     "metadata": {},
     "output_type": "execute_result"
    }
   ],
   "source": [
    "b"
   ]
  },
  {
   "cell_type": "code",
   "execution_count": 202,
   "id": "ba062965-542d-4ac6-9005-665528baef3a",
   "metadata": {},
   "outputs": [
    {
     "data": {
      "text/plain": [
       "list"
      ]
     },
     "execution_count": 202,
     "metadata": {},
     "output_type": "execute_result"
    }
   ],
   "source": [
    "type(b)"
   ]
  },
  {
   "cell_type": "code",
   "execution_count": 203,
   "id": "4197e2ba-6f6c-4c0c-8f5a-ba672e3586f1",
   "metadata": {},
   "outputs": [
    {
     "data": {
      "text/plain": [
       "complex"
      ]
     },
     "execution_count": 203,
     "metadata": {},
     "output_type": "execute_result"
    }
   ],
   "source": [
    "type(10+3j)"
   ]
  },
  {
   "cell_type": "code",
   "execution_count": 204,
   "id": "5df288aa-41cc-452a-b88a-1c80f89ae448",
   "metadata": {},
   "outputs": [],
   "source": [
    "mix=['python', 29, 25.5, 10+5j, True]"
   ]
  },
  {
   "cell_type": "code",
   "execution_count": 205,
   "id": "f94734ad-ca04-4b8a-9f09-e6c6dd75d363",
   "metadata": {},
   "outputs": [
    {
     "data": {
      "text/plain": [
       "['python', 29, 25.5, (10+5j), True]"
      ]
     },
     "execution_count": 205,
     "metadata": {},
     "output_type": "execute_result"
    }
   ],
   "source": [
    "mix"
   ]
  },
  {
   "cell_type": "code",
   "execution_count": 206,
   "id": "dfa8d009-c77c-4b59-af60-178af3c74c78",
   "metadata": {},
   "outputs": [
    {
     "data": {
      "text/plain": [
       "list"
      ]
     },
     "execution_count": 206,
     "metadata": {},
     "output_type": "execute_result"
    }
   ],
   "source": [
    "type(mix)"
   ]
  },
  {
   "cell_type": "code",
   "execution_count": 207,
   "id": "73bde920-251c-4b1e-9681-5d84054bea5a",
   "metadata": {},
   "outputs": [],
   "source": [
    "group=[' A', 'B', 'C' , 'G' , 'M' , 'L']"
   ]
  },
  {
   "cell_type": "code",
   "execution_count": 208,
   "id": "33229500-5201-49a9-9143-548ac6773126",
   "metadata": {},
   "outputs": [
    {
     "data": {
      "text/plain": [
       "[' A', 'B', 'C', 'G', 'M', 'L']"
      ]
     },
     "execution_count": 208,
     "metadata": {},
     "output_type": "execute_result"
    }
   ],
   "source": [
    "group"
   ]
  },
  {
   "cell_type": "markdown",
   "id": "5015292c-67f0-4143-9991-1868b23fec60",
   "metadata": {},
   "source": [
    "Indexing Operation"
   ]
  },
  {
   "cell_type": "code",
   "execution_count": 209,
   "id": "62c41610-009b-4422-8bb3-db421362f33a",
   "metadata": {},
   "outputs": [],
   "source": [
    "mix=['hello', 29, 15.5, 10+2j]"
   ]
  },
  {
   "cell_type": "code",
   "execution_count": 210,
   "id": "8cd618a8-e8dc-4960-a799-9da74fbc5f04",
   "metadata": {},
   "outputs": [
    {
     "data": {
      "text/plain": [
       "['hello', 29, 15.5, (10+2j)]"
      ]
     },
     "execution_count": 210,
     "metadata": {},
     "output_type": "execute_result"
    }
   ],
   "source": [
    "mix"
   ]
  },
  {
   "cell_type": "code",
   "execution_count": 211,
   "id": "84ec4f57-7aff-4de7-ad93-91f35f8393fc",
   "metadata": {},
   "outputs": [
    {
     "data": {
      "text/plain": [
       "'hello'"
      ]
     },
     "execution_count": 211,
     "metadata": {},
     "output_type": "execute_result"
    }
   ],
   "source": [
    "mix[0]"
   ]
  },
  {
   "cell_type": "code",
   "execution_count": 212,
   "id": "e5c75588-de10-4a93-b052-1c492d3d2b16",
   "metadata": {},
   "outputs": [
    {
     "data": {
      "text/plain": [
       "15.5"
      ]
     },
     "execution_count": 212,
     "metadata": {},
     "output_type": "execute_result"
    }
   ],
   "source": [
    "mix[2]"
   ]
  },
  {
   "cell_type": "code",
   "execution_count": 213,
   "id": "27393655-f901-444d-a432-12641c2a74a2",
   "metadata": {},
   "outputs": [],
   "source": [
    "a=[2, 3, 4, 5, 6, ]"
   ]
  },
  {
   "cell_type": "code",
   "execution_count": 214,
   "id": "1776b92f-a284-4ce1-b82b-0fe4aca371d0",
   "metadata": {},
   "outputs": [
    {
     "data": {
      "text/plain": [
       "5"
      ]
     },
     "execution_count": 214,
     "metadata": {},
     "output_type": "execute_result"
    }
   ],
   "source": [
    "a[3]"
   ]
  },
  {
   "cell_type": "code",
   "execution_count": 215,
   "id": "20c0f89a-07f1-4b6d-ae46-2b8eed1d71c2",
   "metadata": {},
   "outputs": [
    {
     "data": {
      "text/plain": [
       "3"
      ]
     },
     "execution_count": 215,
     "metadata": {},
     "output_type": "execute_result"
    }
   ],
   "source": [
    "a[1]"
   ]
  },
  {
   "cell_type": "code",
   "execution_count": 216,
   "id": "bfc5bef5-20b7-4a30-91fc-72e0ab9804c9",
   "metadata": {},
   "outputs": [
    {
     "data": {
      "text/plain": [
       "6"
      ]
     },
     "execution_count": 216,
     "metadata": {},
     "output_type": "execute_result"
    }
   ],
   "source": [
    "a[4]"
   ]
  },
  {
   "cell_type": "code",
   "execution_count": 217,
   "id": "781633e5-44a4-4783-ba79-a92a05776e51",
   "metadata": {},
   "outputs": [
    {
     "data": {
      "text/plain": [
       "2"
      ]
     },
     "execution_count": 217,
     "metadata": {},
     "output_type": "execute_result"
    }
   ],
   "source": [
    "a[0]"
   ]
  },
  {
   "cell_type": "code",
   "execution_count": 218,
   "id": "b728f41d-78b7-4c5b-8877-67c086417b2c",
   "metadata": {},
   "outputs": [],
   "source": [
    "b=[6, 'hello', 10+3j, 2.6]"
   ]
  },
  {
   "cell_type": "code",
   "execution_count": 219,
   "id": "4928a689-365b-4820-a4da-b4e0df4b79e5",
   "metadata": {},
   "outputs": [
    {
     "data": {
      "text/plain": [
       "[6, 'hello', (10+3j), 2.6]"
      ]
     },
     "execution_count": 219,
     "metadata": {},
     "output_type": "execute_result"
    }
   ],
   "source": [
    "b"
   ]
  },
  {
   "cell_type": "code",
   "execution_count": 220,
   "id": "11fb90c2-432c-4a94-ad6f-d23d516225a2",
   "metadata": {},
   "outputs": [
    {
     "data": {
      "text/plain": [
       "6"
      ]
     },
     "execution_count": 220,
     "metadata": {},
     "output_type": "execute_result"
    }
   ],
   "source": [
    "b[0]"
   ]
  },
  {
   "cell_type": "code",
   "execution_count": 221,
   "id": "02799214-05bc-4896-ae09-e470d9bca5c8",
   "metadata": {},
   "outputs": [
    {
     "data": {
      "text/plain": [
       "'hello'"
      ]
     },
     "execution_count": 221,
     "metadata": {},
     "output_type": "execute_result"
    }
   ],
   "source": [
    "b[1]"
   ]
  },
  {
   "cell_type": "code",
   "execution_count": 222,
   "id": "977d04a0-e3e1-4395-aa5b-adbcc83f90f1",
   "metadata": {},
   "outputs": [
    {
     "data": {
      "text/plain": [
       "(10+3j)"
      ]
     },
     "execution_count": 222,
     "metadata": {},
     "output_type": "execute_result"
    }
   ],
   "source": [
    "b[2]"
   ]
  },
  {
   "cell_type": "code",
   "execution_count": 223,
   "id": "dc8abaa1-0a47-4d59-8635-8e053adde4ac",
   "metadata": {},
   "outputs": [
    {
     "data": {
      "text/plain": [
       "2.6"
      ]
     },
     "execution_count": 223,
     "metadata": {},
     "output_type": "execute_result"
    }
   ],
   "source": [
    "b[3]"
   ]
  },
  {
   "cell_type": "code",
   "execution_count": 224,
   "id": "a2313b2f-ac3c-4f4d-b959-bde98b9ce88b",
   "metadata": {},
   "outputs": [],
   "source": [
    "names=['John' , 'Bob' , 'Nick' , 'Sia']"
   ]
  },
  {
   "cell_type": "code",
   "execution_count": 225,
   "id": "068dec88-904f-4899-ab24-298c8f2b4916",
   "metadata": {},
   "outputs": [
    {
     "data": {
      "text/plain": [
       "'Bob'"
      ]
     },
     "execution_count": 225,
     "metadata": {},
     "output_type": "execute_result"
    }
   ],
   "source": [
    "names[1]"
   ]
  },
  {
   "cell_type": "code",
   "execution_count": 226,
   "id": "5dd7e365-2810-4092-95e0-81071ed7d77a",
   "metadata": {},
   "outputs": [
    {
     "data": {
      "text/plain": [
       "'John'"
      ]
     },
     "execution_count": 226,
     "metadata": {},
     "output_type": "execute_result"
    }
   ],
   "source": [
    "names[0]"
   ]
  },
  {
   "cell_type": "code",
   "execution_count": 227,
   "id": "60d2ea85-8308-4400-9999-41a36197a6d2",
   "metadata": {},
   "outputs": [
    {
     "data": {
      "text/plain": [
       "'Sia'"
      ]
     },
     "execution_count": 227,
     "metadata": {},
     "output_type": "execute_result"
    }
   ],
   "source": [
    "names[3]"
   ]
  },
  {
   "cell_type": "markdown",
   "id": "a3639c0f-d47d-4d15-935f-249e0f29f730",
   "metadata": {},
   "source": [
    "# Change Data"
   ]
  },
  {
   "cell_type": "code",
   "execution_count": 228,
   "id": "50771463-da67-43af-a2ca-5ef28df37e79",
   "metadata": {},
   "outputs": [
    {
     "data": {
      "text/plain": [
       "['John', 'Bob', 'Nick', 'Sia']"
      ]
     },
     "execution_count": 228,
     "metadata": {},
     "output_type": "execute_result"
    }
   ],
   "source": [
    "names"
   ]
  },
  {
   "cell_type": "code",
   "execution_count": 229,
   "id": "abd95cc6-afd7-4bf1-8b9b-8931e3cfd4fc",
   "metadata": {},
   "outputs": [],
   "source": [
    "names[0]='Ram'"
   ]
  },
  {
   "cell_type": "code",
   "execution_count": 230,
   "id": "207858a2-441e-4ea9-add6-b1e826545662",
   "metadata": {},
   "outputs": [
    {
     "data": {
      "text/plain": [
       "['Ram', 'Bob', 'Nick', 'Sia']"
      ]
     },
     "execution_count": 230,
     "metadata": {},
     "output_type": "execute_result"
    }
   ],
   "source": [
    "names"
   ]
  },
  {
   "cell_type": "code",
   "execution_count": 231,
   "id": "56b8a7e2-978c-44d4-b023-442cfb240797",
   "metadata": {},
   "outputs": [],
   "source": [
    "names[2]='Nia'"
   ]
  },
  {
   "cell_type": "code",
   "execution_count": 232,
   "id": "877e32e1-e9df-4282-9198-ce759f92a445",
   "metadata": {},
   "outputs": [
    {
     "data": {
      "text/plain": [
       "['Ram', 'Bob', 'Nia', 'Sia']"
      ]
     },
     "execution_count": 232,
     "metadata": {},
     "output_type": "execute_result"
    }
   ],
   "source": [
    "names"
   ]
  },
  {
   "cell_type": "code",
   "execution_count": 233,
   "id": "645cb2b0-e463-4bb8-81dd-bc725dc4ee87",
   "metadata": {},
   "outputs": [
    {
     "data": {
      "text/plain": [
       "['hello', 29, 15.5, (10+2j)]"
      ]
     },
     "execution_count": 233,
     "metadata": {},
     "output_type": "execute_result"
    }
   ],
   "source": [
    "mix"
   ]
  },
  {
   "cell_type": "code",
   "execution_count": 234,
   "id": "0c81a482-8f06-4d33-bc5b-f79e1cb24d1c",
   "metadata": {},
   "outputs": [],
   "source": [
    "mix[0]='code'"
   ]
  },
  {
   "cell_type": "code",
   "execution_count": 235,
   "id": "a49b2828-f13e-4101-bb69-17af9e5caf26",
   "metadata": {},
   "outputs": [],
   "source": [
    "mix[2]=40.5"
   ]
  },
  {
   "cell_type": "code",
   "execution_count": 236,
   "id": "94f55bac-0889-46b3-8edc-949342eceb9c",
   "metadata": {},
   "outputs": [
    {
     "data": {
      "text/plain": [
       "['code', 29, 40.5, (10+2j)]"
      ]
     },
     "execution_count": 236,
     "metadata": {},
     "output_type": "execute_result"
    }
   ],
   "source": [
    "mix"
   ]
  },
  {
   "cell_type": "code",
   "execution_count": 237,
   "id": "bfc31492-f9f3-4ef6-8f8a-4d73b6d0d1ec",
   "metadata": {},
   "outputs": [
    {
     "data": {
      "text/plain": [
       "[2, 3, 4, 5, 6]"
      ]
     },
     "execution_count": 237,
     "metadata": {},
     "output_type": "execute_result"
    }
   ],
   "source": [
    "a"
   ]
  },
  {
   "cell_type": "code",
   "execution_count": 238,
   "id": "2e41e572-2013-4d60-8baf-a84b123bb5fc",
   "metadata": {},
   "outputs": [],
   "source": [
    "a[0]=1"
   ]
  },
  {
   "cell_type": "code",
   "execution_count": 239,
   "id": "a0373ea9-0493-45ba-87a0-1761bc10a4f4",
   "metadata": {},
   "outputs": [],
   "source": [
    "a[1]=2"
   ]
  },
  {
   "cell_type": "code",
   "execution_count": 240,
   "id": "26b1bee6-fb36-45cc-92bf-993022657f9b",
   "metadata": {},
   "outputs": [],
   "source": [
    "a[2]=3"
   ]
  },
  {
   "cell_type": "code",
   "execution_count": 241,
   "id": "fccd8d81-b137-4326-8d6e-5371cf487f41",
   "metadata": {},
   "outputs": [],
   "source": [
    "a[3]=4"
   ]
  },
  {
   "cell_type": "code",
   "execution_count": 242,
   "id": "427edddd-91e7-4702-92f9-7bbe4d01f785",
   "metadata": {},
   "outputs": [],
   "source": [
    "a[4]=5"
   ]
  },
  {
   "cell_type": "code",
   "execution_count": 243,
   "id": "a961357f-d499-4b40-8771-aa731ec47eb5",
   "metadata": {},
   "outputs": [
    {
     "data": {
      "text/plain": [
       "[1, 2, 3, 4, 5]"
      ]
     },
     "execution_count": 243,
     "metadata": {},
     "output_type": "execute_result"
    }
   ],
   "source": [
    "a"
   ]
  },
  {
   "cell_type": "code",
   "execution_count": 244,
   "id": "c52ac721-f9d2-4f2d-b873-89cbce4f4308",
   "metadata": {},
   "outputs": [],
   "source": [
    "a[0]=10"
   ]
  },
  {
   "cell_type": "code",
   "execution_count": 245,
   "id": "c47d3c97-6c3d-4cf9-a330-47e60daa2076",
   "metadata": {},
   "outputs": [
    {
     "data": {
      "text/plain": [
       "[10, 2, 3, 4, 5]"
      ]
     },
     "execution_count": 245,
     "metadata": {},
     "output_type": "execute_result"
    }
   ],
   "source": [
    "a"
   ]
  },
  {
   "cell_type": "code",
   "execution_count": 246,
   "id": "e2eadc3a-4885-4ac1-8cc2-ddf664489997",
   "metadata": {},
   "outputs": [],
   "source": [
    "a[1]=20"
   ]
  },
  {
   "cell_type": "code",
   "execution_count": 247,
   "id": "ae14bbfc-5b36-4958-b97a-049d22e8393a",
   "metadata": {},
   "outputs": [],
   "source": [
    "a[2]=30"
   ]
  },
  {
   "cell_type": "code",
   "execution_count": 248,
   "id": "1071f139-dea8-4d4f-8a45-fcd29a32b867",
   "metadata": {},
   "outputs": [],
   "source": [
    "a[3]=40"
   ]
  },
  {
   "cell_type": "code",
   "execution_count": 249,
   "id": "e00d09f2-857d-4a9d-9613-a2cd7058fe2e",
   "metadata": {},
   "outputs": [],
   "source": [
    "a[4]=50"
   ]
  },
  {
   "cell_type": "code",
   "execution_count": 250,
   "id": "817acdf3-6edf-4288-80a8-82cd9525b249",
   "metadata": {},
   "outputs": [
    {
     "data": {
      "text/plain": [
       "[10, 20, 30, 40, 50]"
      ]
     },
     "execution_count": 250,
     "metadata": {},
     "output_type": "execute_result"
    }
   ],
   "source": [
    "a"
   ]
  },
  {
   "cell_type": "code",
   "execution_count": 251,
   "id": "997c4b18-dbcf-4ae4-96b7-db5a32e99fd6",
   "metadata": {},
   "outputs": [
    {
     "data": {
      "text/plain": [
       "[' A', 'B', 'C', 'G', 'M', 'L']"
      ]
     },
     "execution_count": 251,
     "metadata": {},
     "output_type": "execute_result"
    }
   ],
   "source": [
    "group"
   ]
  },
  {
   "cell_type": "code",
   "execution_count": 252,
   "id": "d1c45024-17e4-4cc2-85ad-952cf801c9f3",
   "metadata": {},
   "outputs": [],
   "source": [
    "group[0]='D'"
   ]
  },
  {
   "cell_type": "code",
   "execution_count": 253,
   "id": "677b8357-51c1-4fd9-a886-0e8ddde93fa0",
   "metadata": {},
   "outputs": [],
   "source": [
    "group[1]='E'"
   ]
  },
  {
   "cell_type": "code",
   "execution_count": 254,
   "id": "02b91c5d-de47-4422-9fe8-61f9e5117910",
   "metadata": {},
   "outputs": [],
   "source": [
    "group[2]='F'"
   ]
  },
  {
   "cell_type": "code",
   "execution_count": 255,
   "id": "e4cbb688-1acb-423d-bd0e-7ee2278e04c4",
   "metadata": {},
   "outputs": [
    {
     "data": {
      "text/plain": [
       "['D', 'E', 'F', 'G', 'M', 'L']"
      ]
     },
     "execution_count": 255,
     "metadata": {},
     "output_type": "execute_result"
    }
   ],
   "source": [
    "group"
   ]
  },
  {
   "cell_type": "markdown",
   "id": "ba583aa0-31e3-4f64-ace1-5accc86d2340",
   "metadata": {},
   "source": [
    "# Slicing"
   ]
  },
  {
   "cell_type": "code",
   "execution_count": 256,
   "id": "a9796f1c-f7a6-4aee-951f-1b99b5271b8a",
   "metadata": {},
   "outputs": [
    {
     "data": {
      "text/plain": [
       "['Ram', 'Bob', 'Nia', 'Sia']"
      ]
     },
     "execution_count": 256,
     "metadata": {},
     "output_type": "execute_result"
    }
   ],
   "source": [
    "names"
   ]
  },
  {
   "cell_type": "code",
   "execution_count": 257,
   "id": "3f12371b-ede7-4573-8a75-5557ae27b037",
   "metadata": {},
   "outputs": [
    {
     "data": {
      "text/plain": [
       "['Ram', 'Bob', 'Nia']"
      ]
     },
     "execution_count": 257,
     "metadata": {},
     "output_type": "execute_result"
    }
   ],
   "source": [
    "names[0:3] # Starting Index : End Index"
   ]
  },
  {
   "cell_type": "code",
   "execution_count": 258,
   "id": "33398d62-ecec-41ad-9c11-f2be7f71403d",
   "metadata": {},
   "outputs": [
    {
     "data": {
      "text/plain": [
       "['Ram', 'Bob', 'Nia', 'Sia']"
      ]
     },
     "execution_count": 258,
     "metadata": {},
     "output_type": "execute_result"
    }
   ],
   "source": [
    "names[:]"
   ]
  },
  {
   "cell_type": "code",
   "execution_count": 259,
   "id": "c18973cc-cf76-410b-9d94-54f14eaf573c",
   "metadata": {},
   "outputs": [
    {
     "data": {
      "text/plain": [
       "'Bob'"
      ]
     },
     "execution_count": 259,
     "metadata": {},
     "output_type": "execute_result"
    }
   ],
   "source": [
    "names[-3]"
   ]
  },
  {
   "cell_type": "code",
   "execution_count": 260,
   "id": "decbf3a6-7519-47ec-8acc-fc7d0bb72c2e",
   "metadata": {},
   "outputs": [
    {
     "data": {
      "text/plain": [
       "'Nia'"
      ]
     },
     "execution_count": 260,
     "metadata": {},
     "output_type": "execute_result"
    }
   ],
   "source": [
    "names[-2]"
   ]
  },
  {
   "cell_type": "code",
   "execution_count": 261,
   "id": "06226400-21b9-4fef-8a6f-4b77bccb8d1e",
   "metadata": {},
   "outputs": [
    {
     "data": {
      "text/plain": [
       "['Nia', 'Sia']"
      ]
     },
     "execution_count": 261,
     "metadata": {},
     "output_type": "execute_result"
    }
   ],
   "source": [
    "names[2:4]"
   ]
  },
  {
   "cell_type": "code",
   "execution_count": 262,
   "id": "7e4ba76f-ef50-436e-84b8-932662b46cdf",
   "metadata": {},
   "outputs": [
    {
     "data": {
      "text/plain": [
       "['Bob', 'Nia', 'Sia']"
      ]
     },
     "execution_count": 262,
     "metadata": {},
     "output_type": "execute_result"
    }
   ],
   "source": [
    "names[1:]"
   ]
  },
  {
   "cell_type": "code",
   "execution_count": 263,
   "id": "be09931f-374d-4250-bba0-ab34fc0bc692",
   "metadata": {},
   "outputs": [
    {
     "data": {
      "text/plain": [
       "['code', 29, 40.5, (10+2j)]"
      ]
     },
     "execution_count": 263,
     "metadata": {},
     "output_type": "execute_result"
    }
   ],
   "source": [
    "mix"
   ]
  },
  {
   "cell_type": "code",
   "execution_count": 264,
   "id": "4a6a745d-786e-4257-890c-a903af467b2d",
   "metadata": {},
   "outputs": [
    {
     "data": {
      "text/plain": [
       "[29, 40.5]"
      ]
     },
     "execution_count": 264,
     "metadata": {},
     "output_type": "execute_result"
    }
   ],
   "source": [
    "mix[1:3]"
   ]
  },
  {
   "cell_type": "code",
   "execution_count": 265,
   "id": "fb4aee4c-638f-4b71-ae9a-d2cc1f810fd6",
   "metadata": {},
   "outputs": [
    {
     "data": {
      "text/plain": [
       "['code']"
      ]
     },
     "execution_count": 265,
     "metadata": {},
     "output_type": "execute_result"
    }
   ],
   "source": [
    "mix[:1]"
   ]
  },
  {
   "cell_type": "code",
   "execution_count": 266,
   "id": "6013cf29-e690-4dab-b7b5-515921c2dbc5",
   "metadata": {},
   "outputs": [
    {
     "data": {
      "text/plain": [
       "[40.5, (10+2j)]"
      ]
     },
     "execution_count": 266,
     "metadata": {},
     "output_type": "execute_result"
    }
   ],
   "source": [
    "mix[2:4]"
   ]
  },
  {
   "cell_type": "code",
   "execution_count": 267,
   "id": "252e8e98-c6f7-4e9a-9a5a-3ce4a99ad397",
   "metadata": {},
   "outputs": [
    {
     "data": {
      "text/plain": [
       "[29, 40.5, (10+2j)]"
      ]
     },
     "execution_count": 267,
     "metadata": {},
     "output_type": "execute_result"
    }
   ],
   "source": [
    "mix[1:]"
   ]
  },
  {
   "cell_type": "code",
   "execution_count": 268,
   "id": "dafc5cfc-0bb3-4d0a-9d39-b397bc5f3bb3",
   "metadata": {},
   "outputs": [
    {
     "data": {
      "text/plain": [
       "['D', 'E', 'F', 'G', 'M', 'L']"
      ]
     },
     "execution_count": 268,
     "metadata": {},
     "output_type": "execute_result"
    }
   ],
   "source": [
    "group"
   ]
  },
  {
   "cell_type": "code",
   "execution_count": 269,
   "id": "31a169b1-f77b-4822-aca4-48ace2881c64",
   "metadata": {},
   "outputs": [
    {
     "data": {
      "text/plain": [
       "['D', 'E']"
      ]
     },
     "execution_count": 269,
     "metadata": {},
     "output_type": "execute_result"
    }
   ],
   "source": [
    "group[:2]"
   ]
  },
  {
   "cell_type": "code",
   "execution_count": 270,
   "id": "f272532c-029d-4895-9f59-5ac20061f5b9",
   "metadata": {},
   "outputs": [
    {
     "data": {
      "text/plain": [
       "['F', 'G', 'M', 'L']"
      ]
     },
     "execution_count": 270,
     "metadata": {},
     "output_type": "execute_result"
    }
   ],
   "source": [
    "group[2:]"
   ]
  },
  {
   "cell_type": "code",
   "execution_count": 271,
   "id": "4d2e4bec-6dd8-4239-a326-1f42986b0ab0",
   "metadata": {},
   "outputs": [
    {
     "data": {
      "text/plain": [
       "['D', 'E', 'F', 'G', 'M', 'L']"
      ]
     },
     "execution_count": 271,
     "metadata": {},
     "output_type": "execute_result"
    }
   ],
   "source": [
    "group[:]"
   ]
  },
  {
   "cell_type": "code",
   "execution_count": 272,
   "id": "746518ee-c53f-4102-a197-218f0ecd11e0",
   "metadata": {},
   "outputs": [
    {
     "data": {
      "text/plain": [
       "[10, 20, 30, 40, 50]"
      ]
     },
     "execution_count": 272,
     "metadata": {},
     "output_type": "execute_result"
    }
   ],
   "source": [
    "a"
   ]
  },
  {
   "cell_type": "code",
   "execution_count": 273,
   "id": "a9fef97b-6a8a-47f3-af3f-18491b6f9ef9",
   "metadata": {},
   "outputs": [
    {
     "data": {
      "text/plain": [
       "[10, 20, 30, 40]"
      ]
     },
     "execution_count": 273,
     "metadata": {},
     "output_type": "execute_result"
    }
   ],
   "source": [
    "a[:-1]"
   ]
  },
  {
   "cell_type": "code",
   "execution_count": 274,
   "id": "aa52a94c-6914-4795-b286-32955d665c10",
   "metadata": {},
   "outputs": [
    {
     "data": {
      "text/plain": [
       "[10, 20]"
      ]
     },
     "execution_count": 274,
     "metadata": {},
     "output_type": "execute_result"
    }
   ],
   "source": [
    "a[:-3]"
   ]
  },
  {
   "cell_type": "code",
   "execution_count": 275,
   "id": "5bde2616-ed92-4354-b8bf-76c23743a293",
   "metadata": {},
   "outputs": [
    {
     "data": {
      "text/plain": [
       "['Ram', 'Bob', 'Nia', 'Sia']"
      ]
     },
     "execution_count": 275,
     "metadata": {},
     "output_type": "execute_result"
    }
   ],
   "source": [
    "names"
   ]
  },
  {
   "cell_type": "code",
   "execution_count": 276,
   "id": "a599c1df-5b0b-4f68-b20c-155f6a0b66df",
   "metadata": {},
   "outputs": [
    {
     "data": {
      "text/plain": [
       "['Ram', 'Bob']"
      ]
     },
     "execution_count": 276,
     "metadata": {},
     "output_type": "execute_result"
    }
   ],
   "source": [
    "names[:-2]"
   ]
  },
  {
   "cell_type": "code",
   "execution_count": 277,
   "id": "774e8ca9-27d9-4b71-8a58-29a9d4ce48b9",
   "metadata": {},
   "outputs": [
    {
     "data": {
      "text/plain": [
       "['Ram', 'Bob', 'Nia']"
      ]
     },
     "execution_count": 277,
     "metadata": {},
     "output_type": "execute_result"
    }
   ],
   "source": [
    "names[0:3]"
   ]
  },
  {
   "cell_type": "code",
   "execution_count": 278,
   "id": "9d8b8610-7ca7-4ca5-a086-be5c1d9c6b76",
   "metadata": {},
   "outputs": [
    {
     "data": {
      "text/plain": [
       "[10, 20, 30, 40, 50]"
      ]
     },
     "execution_count": 278,
     "metadata": {},
     "output_type": "execute_result"
    }
   ],
   "source": [
    "a"
   ]
  },
  {
   "cell_type": "code",
   "execution_count": 279,
   "id": "ef381da4-d6f9-4d8b-bef2-2089c6be539b",
   "metadata": {},
   "outputs": [
    {
     "data": {
      "text/plain": [
       "[10, 40]"
      ]
     },
     "execution_count": 279,
     "metadata": {},
     "output_type": "execute_result"
    }
   ],
   "source": [
    "a[::3] # Starting Index : End Index : Jump size"
   ]
  },
  {
   "cell_type": "code",
   "execution_count": 280,
   "id": "67c29b2c-3885-4be6-9f6e-914fc2e2eae0",
   "metadata": {},
   "outputs": [
    {
     "data": {
      "text/plain": [
       "[20, 40]"
      ]
     },
     "execution_count": 280,
     "metadata": {},
     "output_type": "execute_result"
    }
   ],
   "source": [
    "a[1::2]"
   ]
  },
  {
   "cell_type": "code",
   "execution_count": 281,
   "id": "6ff5fdd7-783a-4d52-90ee-5fc6896e0c91",
   "metadata": {},
   "outputs": [
    {
     "data": {
      "text/plain": [
       "[10]"
      ]
     },
     "execution_count": 281,
     "metadata": {},
     "output_type": "execute_result"
    }
   ],
   "source": [
    "a[::5]"
   ]
  },
  {
   "cell_type": "code",
   "execution_count": 282,
   "id": "45aa5ac7-082b-4e0a-a722-823a968ab449",
   "metadata": {},
   "outputs": [
    {
     "data": {
      "text/plain": [
       "[6, 'hello', (10+3j), 2.6]"
      ]
     },
     "execution_count": 282,
     "metadata": {},
     "output_type": "execute_result"
    }
   ],
   "source": [
    "b"
   ]
  },
  {
   "cell_type": "code",
   "execution_count": 283,
   "id": "6b516adf-6aaa-4431-bcc2-bb636971f01d",
   "metadata": {},
   "outputs": [
    {
     "data": {
      "text/plain": [
       "[2.6, (10+3j), 'hello', 6]"
      ]
     },
     "execution_count": 283,
     "metadata": {},
     "output_type": "execute_result"
    }
   ],
   "source": [
    "b[::-1] # Reverse Order"
   ]
  },
  {
   "cell_type": "code",
   "execution_count": 284,
   "id": "5f3c6a25-128a-4371-94a8-a1fa6dcc2065",
   "metadata": {},
   "outputs": [
    {
     "data": {
      "text/plain": [
       "[2.6, 6]"
      ]
     },
     "execution_count": 284,
     "metadata": {},
     "output_type": "execute_result"
    }
   ],
   "source": [
    "b[::-3]"
   ]
  },
  {
   "cell_type": "code",
   "execution_count": 285,
   "id": "7b79df6c-b880-4dca-8077-c1657fad1ac7",
   "metadata": {},
   "outputs": [
    {
     "data": {
      "text/plain": [
       "['D', 'E', 'F', 'G', 'M', 'L']"
      ]
     },
     "execution_count": 285,
     "metadata": {},
     "output_type": "execute_result"
    }
   ],
   "source": [
    "group"
   ]
  },
  {
   "cell_type": "code",
   "execution_count": 286,
   "id": "8d77f9d6-5870-48e6-8a6c-4cb1bcb45408",
   "metadata": {},
   "outputs": [
    {
     "data": {
      "text/plain": [
       "['L', 'G', 'E']"
      ]
     },
     "execution_count": 286,
     "metadata": {},
     "output_type": "execute_result"
    }
   ],
   "source": [
    "group[::-2]"
   ]
  },
  {
   "cell_type": "code",
   "execution_count": 287,
   "id": "c561d210-2ab8-4173-81a1-5c32a85dab4b",
   "metadata": {},
   "outputs": [
    {
     "data": {
      "text/plain": [
       "[10, 20, 30, 40, 50]"
      ]
     },
     "execution_count": 287,
     "metadata": {},
     "output_type": "execute_result"
    }
   ],
   "source": [
    "a"
   ]
  },
  {
   "cell_type": "code",
   "execution_count": 288,
   "id": "ab0cee87-c9ff-4e44-941b-decf4c8f248a",
   "metadata": {},
   "outputs": [
    {
     "data": {
      "text/plain": [
       "[50]"
      ]
     },
     "execution_count": 288,
     "metadata": {},
     "output_type": "execute_result"
    }
   ],
   "source": [
    "a[::-5]"
   ]
  },
  {
   "cell_type": "code",
   "execution_count": 289,
   "id": "f9eff315-c42d-4130-ab45-b56529e620d7",
   "metadata": {},
   "outputs": [
    {
     "data": {
      "text/plain": [
       "[50, 20]"
      ]
     },
     "execution_count": 289,
     "metadata": {},
     "output_type": "execute_result"
    }
   ],
   "source": [
    "a[::-3]"
   ]
  },
  {
   "cell_type": "code",
   "execution_count": 290,
   "id": "6d4ccf3e-bfef-4ec0-b6ef-2785e7e388cd",
   "metadata": {},
   "outputs": [
    {
     "data": {
      "text/plain": [
       "[50, 40, 30, 20, 10]"
      ]
     },
     "execution_count": 290,
     "metadata": {},
     "output_type": "execute_result"
    }
   ],
   "source": [
    "a[::-1]"
   ]
  },
  {
   "cell_type": "code",
   "execution_count": 291,
   "id": "60e4af7d-7fed-40fa-9ad4-f46c6b772881",
   "metadata": {},
   "outputs": [
    {
     "data": {
      "text/plain": [
       "[50, 30, 10]"
      ]
     },
     "execution_count": 291,
     "metadata": {},
     "output_type": "execute_result"
    }
   ],
   "source": [
    "a[::-2]"
   ]
  },
  {
   "cell_type": "code",
   "execution_count": 292,
   "id": "da80bc5c-5ba2-4a14-888c-efa0bfe0a89b",
   "metadata": {},
   "outputs": [
    {
     "data": {
      "text/plain": [
       "[50]"
      ]
     },
     "execution_count": 292,
     "metadata": {},
     "output_type": "execute_result"
    }
   ],
   "source": [
    "a[4:3:-1]"
   ]
  },
  {
   "cell_type": "code",
   "execution_count": 293,
   "id": "da5314b8-ebf2-41d7-a34f-58426f130b93",
   "metadata": {},
   "outputs": [
    {
     "data": {
      "text/plain": [
       "[50, 40]"
      ]
     },
     "execution_count": 293,
     "metadata": {},
     "output_type": "execute_result"
    }
   ],
   "source": [
    "a[4:2:-1]"
   ]
  },
  {
   "cell_type": "code",
   "execution_count": 294,
   "id": "bbb01cb7-0247-4d11-8a31-a46697a0266c",
   "metadata": {},
   "outputs": [
    {
     "data": {
      "text/plain": [
       "[50, 30]"
      ]
     },
     "execution_count": 294,
     "metadata": {},
     "output_type": "execute_result"
    }
   ],
   "source": [
    "a[4:1:-2]"
   ]
  },
  {
   "cell_type": "code",
   "execution_count": 298,
   "id": "0569cd79-cfd4-4316-b1ca-c2167aa8b84b",
   "metadata": {},
   "outputs": [
    {
     "data": {
      "text/plain": [
       "[30]"
      ]
     },
     "execution_count": 298,
     "metadata": {},
     "output_type": "execute_result"
    }
   ],
   "source": [
    "a[2:1:-3]"
   ]
  }
 ],
 "metadata": {
  "kernelspec": {
   "display_name": "Python 3 (ipykernel)",
   "language": "python",
   "name": "python3"
  },
  "language_info": {
   "codemirror_mode": {
    "name": "ipython",
    "version": 3
   },
   "file_extension": ".py",
   "mimetype": "text/x-python",
   "name": "python",
   "nbconvert_exporter": "python",
   "pygments_lexer": "ipython3",
   "version": "3.12.7"
  }
 },
 "nbformat": 4,
 "nbformat_minor": 5
}
